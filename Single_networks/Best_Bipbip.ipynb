{
  "nbformat": 4,
  "nbformat_minor": 0,
  "metadata": {
    "accelerator": "GPU",
    "colab": {
      "name": "Best_Bipbip.ipynb",
      "provenance": [],
      "collapsed_sections": []
    },
    "kernelspec": {
      "display_name": "Python 3",
      "language": "python",
      "name": "python3"
    },
    "language_info": {
      "codemirror_mode": {
        "name": "ipython",
        "version": 3
      },
      "file_extension": ".py",
      "mimetype": "text/x-python",
      "name": "python",
      "nbconvert_exporter": "python",
      "pygments_lexer": "ipython3",
      "version": "3.7.7"
    }
  },
  "cells": [
    {
      "cell_type": "code",
      "metadata": {
        "colab": {
          "background_save": true
        },
        "id": "tOBDSA9BnFIx",
        "outputId": "0c5e5531-a16c-4c98-a15c-e54a50374472"
      },
      "source": [
        "## ---------- ##\n",
        "# Environment #\n",
        "## ---------- ##\n",
        "\n",
        "import os\n",
        "cwd = os.getcwd()\n",
        "\n",
        "from IPython.core.interactiveshell import InteractiveShell\n",
        "InteractiveShell.ast_node_interactivity = \"all\"\n",
        "\n",
        "import tensorflow as tf\n",
        "import numpy as np\n",
        "\n",
        "# SEED experiments are to be reproducible. \n",
        "SEED = 1234\n",
        "tf.random.set_seed(SEED)  \n",
        "\n",
        "# Access to drive\n",
        "from google.colab import drive\n",
        "drive.mount('/content/drive')"
      ],
      "execution_count": null,
      "outputs": [
        {
          "output_type": "error",
          "ename": "KeyboardInterrupt",
          "evalue": "ignored",
          "traceback": [
            "\u001b[0;31m---------------------------------------------------------------------------\u001b[0m",
            "\u001b[0;31mKeyboardInterrupt\u001b[0m                         Traceback (most recent call last)",
            "\u001b[0;32m/usr/local/lib/python3.6/dist-packages/ipykernel/kernelbase.py\u001b[0m in \u001b[0;36m_input_request\u001b[0;34m(self, prompt, ident, parent, password)\u001b[0m\n\u001b[1;32m    728\u001b[0m             \u001b[0;32mtry\u001b[0m\u001b[0;34m:\u001b[0m\u001b[0;34m\u001b[0m\u001b[0;34m\u001b[0m\u001b[0m\n\u001b[0;32m--> 729\u001b[0;31m                 \u001b[0mident\u001b[0m\u001b[0;34m,\u001b[0m \u001b[0mreply\u001b[0m \u001b[0;34m=\u001b[0m \u001b[0mself\u001b[0m\u001b[0;34m.\u001b[0m\u001b[0msession\u001b[0m\u001b[0;34m.\u001b[0m\u001b[0mrecv\u001b[0m\u001b[0;34m(\u001b[0m\u001b[0mself\u001b[0m\u001b[0;34m.\u001b[0m\u001b[0mstdin_socket\u001b[0m\u001b[0;34m,\u001b[0m \u001b[0;36m0\u001b[0m\u001b[0;34m)\u001b[0m\u001b[0;34m\u001b[0m\u001b[0;34m\u001b[0m\u001b[0m\n\u001b[0m\u001b[1;32m    730\u001b[0m             \u001b[0;32mexcept\u001b[0m \u001b[0mException\u001b[0m\u001b[0;34m:\u001b[0m\u001b[0;34m\u001b[0m\u001b[0;34m\u001b[0m\u001b[0m\n",
            "\u001b[0;32m/usr/local/lib/python3.6/dist-packages/jupyter_client/session.py\u001b[0m in \u001b[0;36mrecv\u001b[0;34m(self, socket, mode, content, copy)\u001b[0m\n\u001b[1;32m    802\u001b[0m         \u001b[0;32mtry\u001b[0m\u001b[0;34m:\u001b[0m\u001b[0;34m\u001b[0m\u001b[0;34m\u001b[0m\u001b[0m\n\u001b[0;32m--> 803\u001b[0;31m             \u001b[0mmsg_list\u001b[0m \u001b[0;34m=\u001b[0m \u001b[0msocket\u001b[0m\u001b[0;34m.\u001b[0m\u001b[0mrecv_multipart\u001b[0m\u001b[0;34m(\u001b[0m\u001b[0mmode\u001b[0m\u001b[0;34m,\u001b[0m \u001b[0mcopy\u001b[0m\u001b[0;34m=\u001b[0m\u001b[0mcopy\u001b[0m\u001b[0;34m)\u001b[0m\u001b[0;34m\u001b[0m\u001b[0;34m\u001b[0m\u001b[0m\n\u001b[0m\u001b[1;32m    804\u001b[0m         \u001b[0;32mexcept\u001b[0m \u001b[0mzmq\u001b[0m\u001b[0;34m.\u001b[0m\u001b[0mZMQError\u001b[0m \u001b[0;32mas\u001b[0m \u001b[0me\u001b[0m\u001b[0;34m:\u001b[0m\u001b[0;34m\u001b[0m\u001b[0;34m\u001b[0m\u001b[0m\n",
            "\u001b[0;32m/usr/local/lib/python3.6/dist-packages/zmq/sugar/socket.py\u001b[0m in \u001b[0;36mrecv_multipart\u001b[0;34m(self, flags, copy, track)\u001b[0m\n\u001b[1;32m    565\u001b[0m         \"\"\"\n\u001b[0;32m--> 566\u001b[0;31m         \u001b[0mparts\u001b[0m \u001b[0;34m=\u001b[0m \u001b[0;34m[\u001b[0m\u001b[0mself\u001b[0m\u001b[0;34m.\u001b[0m\u001b[0mrecv\u001b[0m\u001b[0;34m(\u001b[0m\u001b[0mflags\u001b[0m\u001b[0;34m,\u001b[0m \u001b[0mcopy\u001b[0m\u001b[0;34m=\u001b[0m\u001b[0mcopy\u001b[0m\u001b[0;34m,\u001b[0m \u001b[0mtrack\u001b[0m\u001b[0;34m=\u001b[0m\u001b[0mtrack\u001b[0m\u001b[0;34m)\u001b[0m\u001b[0;34m]\u001b[0m\u001b[0;34m\u001b[0m\u001b[0;34m\u001b[0m\u001b[0m\n\u001b[0m\u001b[1;32m    567\u001b[0m         \u001b[0;31m# have first part already, only loop while more to receive\u001b[0m\u001b[0;34m\u001b[0m\u001b[0;34m\u001b[0m\u001b[0;34m\u001b[0m\u001b[0m\n",
            "\u001b[0;32mzmq/backend/cython/socket.pyx\u001b[0m in \u001b[0;36mzmq.backend.cython.socket.Socket.recv\u001b[0;34m()\u001b[0m\n",
            "\u001b[0;32mzmq/backend/cython/socket.pyx\u001b[0m in \u001b[0;36mzmq.backend.cython.socket.Socket.recv\u001b[0;34m()\u001b[0m\n",
            "\u001b[0;32mzmq/backend/cython/socket.pyx\u001b[0m in \u001b[0;36mzmq.backend.cython.socket._recv_copy\u001b[0;34m()\u001b[0m\n",
            "\u001b[0;32m/usr/local/lib/python3.6/dist-packages/zmq/backend/cython/checkrc.pxd\u001b[0m in \u001b[0;36mzmq.backend.cython.checkrc._check_rc\u001b[0;34m()\u001b[0m\n",
            "\u001b[0;31mKeyboardInterrupt\u001b[0m: ",
            "\nDuring handling of the above exception, another exception occurred:\n",
            "\u001b[0;31mKeyboardInterrupt\u001b[0m                         Traceback (most recent call last)",
            "\u001b[0;32m<ipython-input-1-81d1d3e662c4>\u001b[0m in \u001b[0;36m<module>\u001b[0;34m()\u001b[0m\n\u001b[1;32m     18\u001b[0m \u001b[0;31m# Access to drive\u001b[0m\u001b[0;34m\u001b[0m\u001b[0;34m\u001b[0m\u001b[0;34m\u001b[0m\u001b[0m\n\u001b[1;32m     19\u001b[0m \u001b[0;32mfrom\u001b[0m \u001b[0mgoogle\u001b[0m\u001b[0;34m.\u001b[0m\u001b[0mcolab\u001b[0m \u001b[0;32mimport\u001b[0m \u001b[0mdrive\u001b[0m\u001b[0;34m\u001b[0m\u001b[0;34m\u001b[0m\u001b[0m\n\u001b[0;32m---> 20\u001b[0;31m \u001b[0mdrive\u001b[0m\u001b[0;34m.\u001b[0m\u001b[0mmount\u001b[0m\u001b[0;34m(\u001b[0m\u001b[0;34m'/content/drive'\u001b[0m\u001b[0;34m)\u001b[0m\u001b[0;34m\u001b[0m\u001b[0;34m\u001b[0m\u001b[0m\n\u001b[0m",
            "\u001b[0;32m/usr/local/lib/python3.6/dist-packages/google/colab/drive.py\u001b[0m in \u001b[0;36mmount\u001b[0;34m(mountpoint, force_remount, timeout_ms, use_metadata_server)\u001b[0m\n\u001b[1;32m    260\u001b[0m       \u001b[0;32mwith\u001b[0m \u001b[0m_output\u001b[0m\u001b[0;34m.\u001b[0m\u001b[0muse_tags\u001b[0m\u001b[0;34m(\u001b[0m\u001b[0;34m'dfs-auth-dance'\u001b[0m\u001b[0;34m)\u001b[0m\u001b[0;34m:\u001b[0m\u001b[0;34m\u001b[0m\u001b[0;34m\u001b[0m\u001b[0m\n\u001b[1;32m    261\u001b[0m         \u001b[0;32mwith\u001b[0m \u001b[0mopen\u001b[0m\u001b[0;34m(\u001b[0m\u001b[0mfifo\u001b[0m\u001b[0;34m,\u001b[0m \u001b[0;34m'w'\u001b[0m\u001b[0;34m)\u001b[0m \u001b[0;32mas\u001b[0m \u001b[0mfifo_file\u001b[0m\u001b[0;34m:\u001b[0m\u001b[0;34m\u001b[0m\u001b[0;34m\u001b[0m\u001b[0m\n\u001b[0;32m--> 262\u001b[0;31m           \u001b[0mfifo_file\u001b[0m\u001b[0;34m.\u001b[0m\u001b[0mwrite\u001b[0m\u001b[0;34m(\u001b[0m\u001b[0mget_code\u001b[0m\u001b[0;34m(\u001b[0m\u001b[0mauth_prompt\u001b[0m\u001b[0;34m)\u001b[0m \u001b[0;34m+\u001b[0m \u001b[0;34m'\\n'\u001b[0m\u001b[0;34m)\u001b[0m\u001b[0;34m\u001b[0m\u001b[0;34m\u001b[0m\u001b[0m\n\u001b[0m\u001b[1;32m    263\u001b[0m       \u001b[0mwrote_to_fifo\u001b[0m \u001b[0;34m=\u001b[0m \u001b[0;32mTrue\u001b[0m\u001b[0;34m\u001b[0m\u001b[0;34m\u001b[0m\u001b[0m\n\u001b[1;32m    264\u001b[0m     \u001b[0;32melif\u001b[0m \u001b[0mcase\u001b[0m \u001b[0;34m==\u001b[0m \u001b[0;36m5\u001b[0m\u001b[0;34m:\u001b[0m\u001b[0;34m\u001b[0m\u001b[0;34m\u001b[0m\u001b[0m\n",
            "\u001b[0;32m/usr/local/lib/python3.6/dist-packages/ipykernel/kernelbase.py\u001b[0m in \u001b[0;36mraw_input\u001b[0;34m(self, prompt)\u001b[0m\n\u001b[1;32m    702\u001b[0m             \u001b[0mself\u001b[0m\u001b[0;34m.\u001b[0m\u001b[0m_parent_ident\u001b[0m\u001b[0;34m,\u001b[0m\u001b[0;34m\u001b[0m\u001b[0;34m\u001b[0m\u001b[0m\n\u001b[1;32m    703\u001b[0m             \u001b[0mself\u001b[0m\u001b[0;34m.\u001b[0m\u001b[0m_parent_header\u001b[0m\u001b[0;34m,\u001b[0m\u001b[0;34m\u001b[0m\u001b[0;34m\u001b[0m\u001b[0m\n\u001b[0;32m--> 704\u001b[0;31m             \u001b[0mpassword\u001b[0m\u001b[0;34m=\u001b[0m\u001b[0;32mFalse\u001b[0m\u001b[0;34m,\u001b[0m\u001b[0;34m\u001b[0m\u001b[0;34m\u001b[0m\u001b[0m\n\u001b[0m\u001b[1;32m    705\u001b[0m         )\n\u001b[1;32m    706\u001b[0m \u001b[0;34m\u001b[0m\u001b[0m\n",
            "\u001b[0;32m/usr/local/lib/python3.6/dist-packages/ipykernel/kernelbase.py\u001b[0m in \u001b[0;36m_input_request\u001b[0;34m(self, prompt, ident, parent, password)\u001b[0m\n\u001b[1;32m    732\u001b[0m             \u001b[0;32mexcept\u001b[0m \u001b[0mKeyboardInterrupt\u001b[0m\u001b[0;34m:\u001b[0m\u001b[0;34m\u001b[0m\u001b[0;34m\u001b[0m\u001b[0m\n\u001b[1;32m    733\u001b[0m                 \u001b[0;31m# re-raise KeyboardInterrupt, to truncate traceback\u001b[0m\u001b[0;34m\u001b[0m\u001b[0;34m\u001b[0m\u001b[0;34m\u001b[0m\u001b[0m\n\u001b[0;32m--> 734\u001b[0;31m                 \u001b[0;32mraise\u001b[0m \u001b[0mKeyboardInterrupt\u001b[0m\u001b[0;34m\u001b[0m\u001b[0;34m\u001b[0m\u001b[0m\n\u001b[0m\u001b[1;32m    735\u001b[0m             \u001b[0;32melse\u001b[0m\u001b[0;34m:\u001b[0m\u001b[0;34m\u001b[0m\u001b[0;34m\u001b[0m\u001b[0m\n\u001b[1;32m    736\u001b[0m                 \u001b[0;32mbreak\u001b[0m\u001b[0;34m\u001b[0m\u001b[0;34m\u001b[0m\u001b[0m\n",
            "\u001b[0;31mKeyboardInterrupt\u001b[0m: "
          ]
        }
      ]
    },
    {
      "cell_type": "markdown",
      "metadata": {
        "id": "mH3lzlVqnFI2"
      },
      "source": [
        "# Image Segmentation ACRE\n",
        "## Build dataset"
      ]
    },
    {
      "cell_type": "code",
      "metadata": {
        "id": "4N88wG50nFI3"
      },
      "source": [
        "# ------------------ #\n",
        "# ImageDataGenerator\n",
        "# ------------------ #\n",
        "from tensorflow.keras.preprocessing.image import ImageDataGenerator\n",
        "\n",
        "img_data_gen = ImageDataGenerator(rotation_range=90,\n",
        "                                      width_shift_range=0.4,\n",
        "                                      height_shift_range=0.4,\n",
        "                                      zoom_range=0.6,\n",
        "                                      horizontal_flip=True,\n",
        "                                      vertical_flip=True,\n",
        "                                      fill_mode='reflect',\n",
        "                                      brightness_range =[0.8,1.2])\n",
        "mask_data_gen = ImageDataGenerator(rotation_range=90,\n",
        "                                       width_shift_range=0.4,\n",
        "                                       height_shift_range=0.4,\n",
        "                                       zoom_range=0.6,\n",
        "                                       horizontal_flip=True,\n",
        "                                       vertical_flip=True,\n",
        "                                       fill_mode='reflect')"
      ],
      "execution_count": null,
      "outputs": []
    },
    {
      "cell_type": "code",
      "metadata": {
        "id": "hsieZk4aKhm6"
      },
      "source": [
        "from PIL import Image\n",
        "\n",
        "class CustomDataset(tf.keras.utils.Sequence):\n",
        "\n",
        "  \"\"\"\n",
        "    CustomDataset inheriting from tf.keras.utils.Sequence.\n",
        "\n",
        "    3 main methods:\n",
        "      - __init__: save dataset params like directory, filenames..\n",
        "      - __len__: return the total number of samples in the dataset\n",
        "      - __getitem__: return a sample from the dataset\n",
        "\n",
        "    Note: \n",
        "      - the custom dataset return a single sample from the dataset. Then, we use \n",
        "        a tf.data.Dataset object to group samples into batches.\n",
        "      - in this case we have a different structure of the dataset in memory. \n",
        "        We have all the images in the same folder and the training and validation splits\n",
        "        are defined in text files.\n",
        "\n",
        "  \"\"\"\n",
        "  \n",
        "\n",
        "  def __init__(self, dataset_dir, which_subset, img_generator=None, mask_generator=None, \n",
        "               preprocessing_function=None,validation_part=0.2,out_shape=[512,512],projects=['Weedelec','Pead','Roseau','Bipbip'],plants=['Haricot','Mais']):\n",
        "    \n",
        "    # ---------- #\n",
        "    # Attributs  #\n",
        "    # ---------- #\n",
        "\n",
        "    self.png_or_jpg = []\n",
        "    self.subset_filenames = []\n",
        "    self.subset_direc = []\n",
        "\n",
        "    self.which_subset = which_subset\n",
        "    self.dataset_dir = dataset_dir\n",
        "    self.img_generator = img_generator\n",
        "    self.mask_generator = mask_generator\n",
        "    self.preprocessing_function = preprocessing_function\n",
        "    self.out_shape = out_shape\n",
        "    \n",
        "    for project in projects :\n",
        "      for plant in plants :\n",
        "        path = os.path.join(dataset_dir,project,plant)\n",
        "        list_ = os.listdir(os.path.join(path,'Images')) \n",
        "        number_files = len(list_)\n",
        "        training_num_max = int(number_files - int(number_files *  (1 - validation_part)))\n",
        "        \n",
        "        # ----- Training set  ----- #\n",
        "\n",
        "        if which_subset == 'training':\n",
        "          number_max = training_num_max\n",
        "          for ii in range(0,number_max):\n",
        "            self.subset_filenames.append(os.path.splitext(list_[ii])[0])\n",
        "            self.subset_direc.append(path)\n",
        "\n",
        "            if project!='Roseau': # Roseau has images and masks as png.\n",
        "              self.png_or_jpg.append(1)\n",
        "            else:\n",
        "              self.png_or_jpg.append(0)\n",
        "\n",
        "        # ----- Validation set  ----- #\n",
        "              \n",
        "        elif which_subset == 'validation':\n",
        "          number_max = number_files - training_num_max\n",
        "          for ii in range(number_files - 1, number_files - number_max, -1):\n",
        "            self.subset_filenames.append(os.path.splitext(list_[ii])[0])\n",
        "            self.subset_direc.append(path)\n",
        "            if project!='Roseau':\n",
        "              self.png_or_jpg.append(1)\n",
        "            else:\n",
        "              self.png_or_jpg.append(0)\n",
        "            \n",
        "\n",
        "  def __len__(self):\n",
        "    return len(self.subset_filenames)\n",
        "\n",
        "  \n",
        "  def __getitem__(self, index):\n",
        "    \n",
        "    #Read files (image and target)\n",
        "    curr_filename = self.subset_filenames[index]\n",
        "    curr_dir = self.subset_direc[index]\n",
        "    \n",
        "    if self.png_or_jpg[index] != 0:\n",
        "      img = Image.open(os.path.join(curr_dir, 'Images', curr_filename + '.jpg'))\n",
        "    else:\n",
        "      img = Image.open(os.path.join(curr_dir, 'Images', curr_filename + '.png'))\n",
        "    \n",
        "    mask = Image.open(os.path.join(curr_dir, 'Masks', curr_filename + '.png'))\n",
        "\n",
        "    # Resize \n",
        "    img = img.resize(self.out_shape)\n",
        "    mask = mask.resize(self.out_shape, resample=Image.NEAREST)\n",
        "\n",
        "    mask_arr = np.array(mask)\n",
        "    new_mask_arr = np.zeros(mask_arr.shape[:2], dtype=mask_arr.dtype)\n",
        "\n",
        "    # Use RGB dictionary in 'RGBtoTarget.txt' to convert RGB to target\n",
        "    new_mask_arr[np.where(np.all(mask_arr == [216, 124, 18], axis=-1))] = 0\n",
        "    new_mask_arr[np.where(np.all(mask_arr == [255, 255, 255], axis=-1))] = 1\n",
        "    new_mask_arr[np.where(np.all(mask_arr == [216, 67, 82], axis=-1))] = 2\n",
        "    \n",
        "    img_arr = np.array(img)\n",
        "    mask_arr = new_mask_arr\n",
        "    mask_arr = np.expand_dims(mask_arr, -1)\n",
        "\n",
        "    if self.which_subset == 'training':\n",
        "      if self.img_generator is not None and self.mask_generator is not None:\n",
        "        \n",
        "        # Perform data augmentation\n",
        "        \n",
        "        img_t = self.img_generator.get_random_transform(img_arr.shape, seed=SEED)\n",
        "        mask_t = self.mask_generator.get_random_transform(mask_arr.shape, seed=SEED)\n",
        "        img_arr = self.img_generator.apply_transform(img_arr, img_t)\n",
        "        \n",
        "        out_mask = np.zeros_like(mask_arr)\n",
        "        for c in np.unique(mask_arr):\n",
        "          if c > 0:\n",
        "            curr_class_arr = np.float32(mask_arr == c)\n",
        "            curr_class_arr = self.mask_generator.apply_transform(curr_class_arr, mask_t)\n",
        "            # from [0, 1] to {0, 1}\n",
        "            curr_class_arr = np.uint8(curr_class_arr)\n",
        "            # recover original class\n",
        "            curr_class_arr = curr_class_arr * c \n",
        "            out_mask += curr_class_arr\n",
        "    else:\n",
        "      out_mask = mask_arr\n",
        "    \n",
        "    img_arr=1./255*img_arr\n",
        "    if self.preprocessing_function is not None:\n",
        "        img_arr = self.preprocessing_function(255*img_arr)\n",
        "\n",
        "    return img_arr, np.float32(out_mask)"
      ],
      "execution_count": null,
      "outputs": []
    },
    {
      "cell_type": "code",
      "metadata": {
        "id": "TyrdiIh_PWjB"
      },
      "source": [
        "path = '/content/drive/MyDrive/Keras_Tutorial_4/Development_Dataset/Training/'\n",
        "val_part = 0.2\n",
        "\n",
        "dataset = CustomDataset(path, 'training', \n",
        "                        img_generator=img_data_gen, \n",
        "                        mask_generator=mask_data_gen,\n",
        "                        preprocessing_function=None,\n",
        "                        validation_part=val_part,\n",
        "                        projects=['Weedelec','Pead','Roseau','Bipbip'],\n",
        "                        plants=['Mais','Haricot'])\n",
        "dataset_valid = CustomDataset(path, 'validation', \n",
        "                            preprocessing_function=None,\n",
        "                            validation_part=val_part,\n",
        "                            projects=['Bipbip'],\n",
        "                            plants=['Mais','Haricot'])\n"
      ],
      "execution_count": null,
      "outputs": []
    },
    {
      "cell_type": "code",
      "metadata": {
        "id": "usz5SKPeQrOE"
      },
      "source": [
        "img_h = 512\n",
        "img_w = 512\n",
        "bs = 5\n",
        "\n",
        "train_dataset = tf.data.Dataset.from_generator(lambda: dataset,\n",
        "                                               output_types=(tf.float32, tf.float32),\n",
        "                                               output_shapes=([img_h, img_w, 3], [img_h, img_w, 1]))\n",
        "train_dataset = train_dataset.batch(bs)\n",
        "\n",
        "train_dataset = train_dataset.repeat()\n",
        "\n",
        "valid_dataset = tf.data.Dataset.from_generator(lambda: dataset_valid,\n",
        "                                               output_types=(tf.float32, tf.float32),\n",
        "                                               output_shapes=([img_h, img_w, 3], [img_h, img_w,1]))\n",
        "valid_dataset = valid_dataset.batch(bs)\n",
        "\n",
        "valid_dataset = valid_dataset.repeat()"
      ],
      "execution_count": null,
      "outputs": []
    },
    {
      "cell_type": "code",
      "metadata": {
        "id": "HOBabUbmnFJE"
      },
      "source": [
        "# ---------------------------- #\n",
        "# Test of the dataset creation\n",
        "# ---------------------------- #\n",
        "\n",
        "import time\n",
        "from matplotlib import cm\n",
        "import matplotlib.pyplot as plt\n",
        "\n",
        "%matplotlib inline\n",
        "\n",
        "# Assign a color to each class\n",
        "evenly_spaced_interval = np.linspace(0, 1, 2)\n",
        "colors = [cm.rainbow(x) for x in evenly_spaced_interval]\n",
        "\n",
        "iterator = iter(valid_dataset)"
      ],
      "execution_count": null,
      "outputs": []
    },
    {
      "cell_type": "code",
      "metadata": {
        "colab": {
          "base_uri": "https://localhost:8080/",
          "height": 238
        },
        "id": "9eunbPwWqPnB",
        "outputId": "d08937c1-9853-4536-c291-57ba4041ebb0"
      },
      "source": [
        "fig, ax = plt.subplots(1, 2)\n",
        "\n",
        "augmented_img, target = next(iterator)\n",
        "augmented_img = augmented_img[1]   # First element\n",
        "augmented_img = 255*augmented_img  # denormalize\n",
        "\n",
        "target = np.array(target[0, ..., 0])   # First element (squeezing channel dimension)\n",
        "\n",
        "print(np.unique(target))\n",
        "\n",
        "target_img = np.zeros([target.shape[0], target.shape[1], 3])\n",
        "\n",
        "target_img[np.where(target == 0)] = [0, 0, 0]\n",
        "for i in range(1, 3):\n",
        "  target_img[np.where(target == i)] = np.array(colors[i-1])[:3] * 255\n",
        "\n",
        "ax[0].imshow(np.uint8(augmented_img))\n",
        "ax[1].imshow(np.uint8(target_img))\n",
        "\n",
        "plt.show()"
      ],
      "execution_count": null,
      "outputs": [
        {
          "output_type": "stream",
          "text": [
            "[0. 1. 2.]\n"
          ],
          "name": "stdout"
        },
        {
          "output_type": "execute_result",
          "data": {
            "text/plain": [
              "<matplotlib.image.AxesImage at 0x7f61a00b80b8>"
            ]
          },
          "metadata": {
            "tags": []
          },
          "execution_count": 7
        },
        {
          "output_type": "execute_result",
          "data": {
            "text/plain": [
              "<matplotlib.image.AxesImage at 0x7f615e4214e0>"
            ]
          },
          "metadata": {
            "tags": []
          },
          "execution_count": 7
        },
        {
          "output_type": "display_data",
          "data": {
            "image/png": "[encoded data removed]",
            "text/plain": [
              "<Figure size 432x288 with 2 Axes>"
            ]
          },
          "metadata": {
            "tags": []
          }
        }
      ]
    },
    {
      "cell_type": "markdown",
      "metadata": {
        "id": "JA1TGlOMnFJM"
      },
      "source": [
        "## Network for image classifaction\n",
        "### Encoder -Decoder"
      ]
    },
    {
      "cell_type": "code",
      "metadata": {
        "id": "BvsdiF0TFTbt"
      },
      "source": [
        "def create_model(start_f):\n",
        "  input_shape = [img_h, img_w, 3]\n",
        "  inputs = tf.keras.Input(shape=(img_h, img_w, 3))\n",
        "  x_1_1 = tf.keras.layers.Conv2D(filters = start_f, \n",
        "                                kernel_size = (2,2),\n",
        "                                strides=(1, 1),\n",
        "                                padding='same')(inputs)\n",
        "  x_1_1 = tf.keras.layers.Conv2D(filters = start_f, \n",
        "                                kernel_size = (2,2),\n",
        "                                strides=(1, 1),\n",
        "                                padding='same')(x_1_1)                              \n",
        "  x_1_2 = tf.keras.layers.Conv2D(filters = start_f, \n",
        "                                kernel_size = (3,3),\n",
        "                                strides=(1, 1),\n",
        "                                padding='same')(inputs)\n",
        "  x_1_2 = tf.keras.layers.Conv2D(filters = start_f, \n",
        "                                kernel_size = (3,3),\n",
        "                                strides=(1, 1),\n",
        "                                padding='same')(x_1_2)\n",
        "  x_1 = tf.keras.layers.Average()([x_1_1, x_1_2])\n",
        "  input_shape = None\n",
        "\n",
        "\n",
        "  start_f *= 2\n",
        "  x_1 = tf.keras.layers.BatchNormalization(axis=-1)(x_1)\n",
        "  x_1  = tf.keras.layers.Activation('relu')(x_1)\n",
        "  x_2 = tf.keras.layers.MaxPool2D(pool_size=(2, 2))(x_1)\n",
        "  x_2_1 = tf.keras.layers.Conv2D(filters=start_f, \n",
        "                      kernel_size=(2, 2),\n",
        "                      strides = (1,1),\n",
        "                      padding = 'same')(x_2)\n",
        "  x_2_1 = tf.keras.layers.Conv2D(filters=start_f, \n",
        "                      kernel_size=(2, 2),\n",
        "                      strides = (1,1),\n",
        "                      padding = 'same')(x_2_1)\n",
        " \n",
        "  x_2_2 = tf.keras.layers.Conv2D(filters=start_f, \n",
        "                      kernel_size=(3, 3),\n",
        "                      strides = (1,1),\n",
        "                      padding = 'same')(x_2)\n",
        "  x_2_2 = tf.keras.layers.Conv2D(filters=start_f, \n",
        "                      kernel_size=(2, 2),\n",
        "                      strides = (1,1),\n",
        "                      padding = 'same')(x_2_2)\n",
        "\n",
        "  x_2 = tf.keras.layers.Average()([x_2_1, x_2_2])\n",
        "  x_2 = tf.keras.layers.BatchNormalization(axis=-1)(x_2)\n",
        "  x_2 = tf.keras.layers.Activation('relu')(x_2)\n",
        "  x_3 = tf.keras.layers.MaxPool2D(pool_size=(2, 2))(x_2)\n",
        "\n",
        "\n",
        "\n",
        "  start_f *= 2\n",
        "  x_3_1 = tf.keras.layers.Conv2D(filters=start_f, \n",
        "                      kernel_size=(2, 2),\n",
        "                      strides = (1,1),\n",
        "                      padding = 'same')(x_3)\n",
        "  x_3_1 = tf.keras.layers.Conv2D(filters=start_f, \n",
        "                      kernel_size=(2, 2),\n",
        "                      strides = (1,1),\n",
        "                      padding = 'same')(x_3_1)\n",
        "  x_3_2 = tf.keras.layers.Conv2D(filters=start_f, \n",
        "                      kernel_size=(3, 3),\n",
        "                      strides = (1,1),\n",
        "                      padding = 'same')(x_3)\n",
        "  x_3_2 = tf.keras.layers.Conv2D(filters=start_f, \n",
        "                      kernel_size=(3, 3),\n",
        "                      strides = (1,1),\n",
        "                      padding = 'same')(x_3_2)\n",
        "\n",
        "  x_3 = tf.keras.layers.Average()([x_3_1, x_3_1])\n",
        "  x_3 = tf.keras.layers.BatchNormalization(axis=-1)(x_3)\n",
        "  x_3 = tf.keras.layers.Activation('relu')(x_3)\n",
        "  x_4 = tf.keras.layers.MaxPool2D(pool_size=(2, 2))(x_3)\n",
        "\n",
        "\n",
        "  start_f *= 2\n",
        "  x_4_1 = tf.keras.layers.Conv2D(filters=start_f, \n",
        "                      kernel_size=(2, 2),\n",
        "                      strides = (1,1),\n",
        "                      padding = 'same')(x_4)\n",
        "  x_4_1 = tf.keras.layers.Conv2D(filters=start_f, \n",
        "                      kernel_size=(2, 2),\n",
        "                      strides = (1,1),\n",
        "                      padding = 'same')(x_4_1)\n",
        "  x_4_2 = tf.keras.layers.Conv2D(filters=start_f, \n",
        "                      kernel_size=(3, 3),\n",
        "                      strides = (1,1),\n",
        "                      padding = 'same')(x_4)\n",
        "  x_4_2 = tf.keras.layers.Conv2D(filters=start_f, \n",
        "                      kernel_size=(3, 3),\n",
        "                      strides = (1,1),\n",
        "                      padding = 'same')(x_4_2)\n",
        "\n",
        "  x_4 = tf.keras.layers.Average()([x_4_1, x_4_2])\n",
        "  x_4 = tf.keras.layers.BatchNormalization(axis=-1)(x_4)\n",
        "  x_4 = tf.keras.layers.Activation('relu')(x_4)\n",
        "  x_5 = tf.keras.layers.MaxPool2D(pool_size=(2, 2))(x_4)\n",
        "\n",
        "  start_f *= 2\n",
        "  x_5_1 = tf.keras.layers.Conv2D(filters=start_f, \n",
        "                      kernel_size=(2, 2),\n",
        "                      strides = (1,1),\n",
        "                      padding = 'same')(x_5)\n",
        "  x_5_1 = tf.keras.layers.Conv2D(filters=start_f, \n",
        "                      kernel_size=(2, 2),\n",
        "                      strides = (1,1),\n",
        "                      padding = 'same')(x_5_1)\n",
        "  x_5_2 = tf.keras.layers.Conv2D(filters=start_f, \n",
        "                      kernel_size=(3, 3),\n",
        "                      strides = (1,1),\n",
        "                      padding = 'same')(x_5)\n",
        "  x_5_2 = tf.keras.layers.Conv2D(filters=start_f, \n",
        "                      kernel_size=(3, 3),\n",
        "                      strides = (1,1),\n",
        "                      padding = 'same')(x_5_2)\n",
        " \n",
        "  x_5 = tf.keras.layers.Average()([x_5_1, x_5_2])\n",
        "  x_5 = tf.keras.layers.BatchNormalization(axis=-1)(x_5)\n",
        "  x_5 = tf.keras.layers.Activation('relu')(x_5)\n",
        "\n",
        "\n",
        "\n",
        "  #MIDDLE BLOCK\n",
        "  m = tf.keras.layers.Conv2D(filters=start_f, \n",
        "                      kernel_size=(3, 3),\n",
        "                      strides = (1,1),\n",
        "                      padding = 'same')(x_5)\n",
        "  m = tf.keras.layers.Conv2D(filters=start_f, \n",
        "                      kernel_size=(3, 3),\n",
        "                      strides = (1,1),\n",
        "                      padding = 'same')(m)\n",
        "  \n",
        "  m = tf.keras.layers.BatchNormalization(axis=-1)(m)\n",
        "  m = tf.keras.layers.Activation('relu')(m)\n",
        "\n",
        "  #DECODER\n",
        "  start_f = start_f // 2\n",
        "  y_1_1 = tf.keras.layers.Conv2DTranspose(filters=start_f, kernel_size=(2,2), strides=(2, 2), padding='same')(m)\n",
        "  y_1_1 = tf.keras.layers.Conv2DTranspose(filters=start_f, kernel_size=(2,2), strides=(1, 1), padding='same')(y_1_1)\n",
        "  y_1_2 = tf.keras.layers.Conv2DTranspose(filters=start_f, kernel_size=(3,3), strides=(2, 2), padding='same')(m)\n",
        "  y_1_2 = tf.keras.layers.Conv2DTranspose(filters=start_f, kernel_size=(3,3), strides=(1,1), padding='same')(y_1_2)\n",
        "  y_1 = tf.keras.layers.Average()([y_1_1, y_1_2])\n",
        "  y_1 = tf.keras.layers.ReLU()(y_1)\n",
        "  y_1 = tf.keras.layers.Add()([y_1,x_4])\n",
        "\n",
        "  start_f = start_f // 2\n",
        "  y_2_1 = tf.keras.layers.Conv2DTranspose(filters=start_f, kernel_size=(2,2), strides=(2, 2), padding='same')(y_1)\n",
        "  y_2_1 = tf.keras.layers.Conv2DTranspose(filters=start_f, kernel_size=(2,2), strides=(1, 1), padding='same')(y_2_1)\n",
        "  y_2_2 = tf.keras.layers.Conv2DTranspose(filters=start_f, kernel_size=(3,3), strides=(2, 2), padding='same')(y_1)\n",
        "  y_2_2 = tf.keras.layers.Conv2DTranspose(filters=start_f, kernel_size=(3,3), strides=(1, 1), padding='same')(y_2_2)\n",
        "  y_2 = tf.keras.layers.Average()([y_2_1, y_2_2])\n",
        "  y_2 = tf.keras.layers.ReLU()(y_2)\n",
        "  y_2 = tf.keras.layers.Add()([y_2,x_3])\n",
        "\n",
        "\n",
        "  start_f = start_f // 2\n",
        "  y_3_1 = tf.keras.layers.Conv2DTranspose(filters=start_f, kernel_size=(2,2), strides=(2, 2), padding='same')(y_2)\n",
        "  y_3_1 = tf.keras.layers.Conv2DTranspose(filters=start_f, kernel_size=(2,2), strides=(1, 1), padding='same')(y_3_1)\n",
        "  y_3_2 = tf.keras.layers.Conv2DTranspose(filters=start_f, kernel_size=(3,3), strides=(2, 2), padding='same')(y_2)\n",
        "  y_3_2 = tf.keras.layers.Conv2DTranspose(filters=start_f, kernel_size=(3,3), strides=(1, 1), padding='same')(y_3_2)\n",
        "  y_3 = tf.keras.layers.Average()([y_3_1, y_3_2])\n",
        "  y_3 = tf.keras.layers.ReLU()(y_3)\n",
        "  y_3 = tf.keras.layers.Add()([y_3,x_2])\n",
        "\n",
        "  start_f = start_f // 2\n",
        "  y_4_1 = tf.keras.layers.Conv2DTranspose(filters=start_f, kernel_size=(2,2), strides=(2, 2), padding='same')(y_3)\n",
        "  y_4_1 = tf.keras.layers.Conv2DTranspose(filters=start_f, kernel_size=(2,2), strides=(1, 1), padding='same')(y_4_1)\n",
        "  y_4_2 = tf.keras.layers.Conv2DTranspose(filters=start_f, kernel_size=(3,3), strides=(2, 2), padding='same')(y_3)\n",
        "  y_4_2 = tf.keras.layers.Conv2DTranspose(filters=start_f, kernel_size=(3,3), strides=(1,1), padding='same')(y_4_2)\n",
        "  y_4 = tf.keras.layers.Average()([y_4_1, y_4_2])\n",
        "  y_4 = tf.keras.layers.ReLU()(y_4)\n",
        "  y_4 = tf.keras.layers.Add()([y_4,x_1])\n",
        "  y_4 = tf.keras.layers.Dropout(0.4, seed=SEED)(y_4)\n",
        "\n",
        "\n",
        "  \n",
        "  last = tf.keras.layers.Conv2D(filters=3,\n",
        "                                kernel_size=(1, 1),\n",
        "                                strides=(1, 1),\n",
        "                                padding='same',\n",
        "                                activation='softmax')(y_4)\n",
        "  model_1 = tf.keras.Model(inputs=inputs, outputs=last)\n",
        "  print(\"first model summary\")\n",
        "  model_1.summary()\n",
        "\n",
        "  return model_1"
      ],
      "execution_count": null,
      "outputs": []
    },
    {
      "cell_type": "code",
      "metadata": {
        "colab": {
          "base_uri": "https://localhost:8080/"
        },
        "id": "k97OK6CRnFJS",
        "scrolled": true,
        "outputId": "15fa6bff-77e9-4790-abdb-e1cda27a8647"
      },
      "source": [
        "model=create_model(start_f=50)\n",
        "\n",
        "# Model summary\n",
        "model.summary()\n",
        "\n",
        "# Weights summary\n",
        "# model.weights"
      ],
      "execution_count": null,
      "outputs": [
        {
          "output_type": "stream",
          "text": [
            "first model summary\n",
            "Model: \"model\"\n",
            "__________________________________________________________________________________________________\n",
            "Layer (type)                    Output Shape         Param #     Connected to                     \n",
            "==================================================================================================\n",
            "input_1 (InputLayer)            [(None, 512, 512, 3) 0                                            \n",
            "__________________________________________________________________________________________________\n",
            "conv2d (Conv2D)                 (None, 512, 512, 50) 650         input_1[0][0]                    \n",
            "__________________________________________________________________________________________________\n",
            "conv2d_2 (Conv2D)               (None, 512, 512, 50) 1400        input_1[0][0]                    \n",
            "__________________________________________________________________________________________________\n",
            "conv2d_1 (Conv2D)               (None, 512, 512, 50) 10050       conv2d[0][0]                     \n",
            "__________________________________________________________________________________________________\n",
            "conv2d_3 (Conv2D)               (None, 512, 512, 50) 22550       conv2d_2[0][0]                   \n",
            "__________________________________________________________________________________________________\n",
            "average (Average)               (None, 512, 512, 50) 0           conv2d_1[0][0]                   \n",
            "                                                                 conv2d_3[0][0]                   \n",
            "__________________________________________________________________________________________________\n",
            "batch_normalization (BatchNorma (None, 512, 512, 50) 200         average[0][0]                    \n",
            "__________________________________________________________________________________________________\n",
            "activation (Activation)         (None, 512, 512, 50) 0           batch_normalization[0][0]        \n",
            "__________________________________________________________________________________________________\n",
            "max_pooling2d (MaxPooling2D)    (None, 256, 256, 50) 0           activation[0][0]                 \n",
            "__________________________________________________________________________________________________\n",
            "conv2d_4 (Conv2D)               (None, 256, 256, 100 20100       max_pooling2d[0][0]              \n",
            "__________________________________________________________________________________________________\n",
            "conv2d_6 (Conv2D)               (None, 256, 256, 100 45100       max_pooling2d[0][0]              \n",
            "__________________________________________________________________________________________________\n",
            "conv2d_5 (Conv2D)               (None, 256, 256, 100 40100       conv2d_4[0][0]                   \n",
            "__________________________________________________________________________________________________\n",
            "conv2d_7 (Conv2D)               (None, 256, 256, 100 40100       conv2d_6[0][0]                   \n",
            "__________________________________________________________________________________________________\n",
            "average_1 (Average)             (None, 256, 256, 100 0           conv2d_5[0][0]                   \n",
            "                                                                 conv2d_7[0][0]                   \n",
            "__________________________________________________________________________________________________\n",
            "batch_normalization_1 (BatchNor (None, 256, 256, 100 400         average_1[0][0]                  \n",
            "__________________________________________________________________________________________________\n",
            "activation_1 (Activation)       (None, 256, 256, 100 0           batch_normalization_1[0][0]      \n",
            "__________________________________________________________________________________________________\n",
            "max_pooling2d_1 (MaxPooling2D)  (None, 128, 128, 100 0           activation_1[0][0]               \n",
            "__________________________________________________________________________________________________\n",
            "conv2d_8 (Conv2D)               (None, 128, 128, 200 80200       max_pooling2d_1[0][0]            \n",
            "__________________________________________________________________________________________________\n",
            "conv2d_9 (Conv2D)               (None, 128, 128, 200 160200      conv2d_8[0][0]                   \n",
            "__________________________________________________________________________________________________\n",
            "average_2 (Average)             (None, 128, 128, 200 0           conv2d_9[0][0]                   \n",
            "                                                                 conv2d_9[0][0]                   \n",
            "__________________________________________________________________________________________________\n",
            "batch_normalization_2 (BatchNor (None, 128, 128, 200 800         average_2[0][0]                  \n",
            "__________________________________________________________________________________________________\n",
            "activation_2 (Activation)       (None, 128, 128, 200 0           batch_normalization_2[0][0]      \n",
            "__________________________________________________________________________________________________\n",
            "max_pooling2d_2 (MaxPooling2D)  (None, 64, 64, 200)  0           activation_2[0][0]               \n",
            "__________________________________________________________________________________________________\n",
            "conv2d_12 (Conv2D)              (None, 64, 64, 400)  320400      max_pooling2d_2[0][0]            \n",
            "__________________________________________________________________________________________________\n",
            "conv2d_14 (Conv2D)              (None, 64, 64, 400)  720400      max_pooling2d_2[0][0]            \n",
            "__________________________________________________________________________________________________\n",
            "conv2d_13 (Conv2D)              (None, 64, 64, 400)  640400      conv2d_12[0][0]                  \n",
            "__________________________________________________________________________________________________\n",
            "conv2d_15 (Conv2D)              (None, 64, 64, 400)  1440400     conv2d_14[0][0]                  \n",
            "__________________________________________________________________________________________________\n",
            "average_3 (Average)             (None, 64, 64, 400)  0           conv2d_13[0][0]                  \n",
            "                                                                 conv2d_15[0][0]                  \n",
            "__________________________________________________________________________________________________\n",
            "batch_normalization_3 (BatchNor (None, 64, 64, 400)  1600        average_3[0][0]                  \n",
            "__________________________________________________________________________________________________\n",
            "activation_3 (Activation)       (None, 64, 64, 400)  0           batch_normalization_3[0][0]      \n",
            "__________________________________________________________________________________________________\n",
            "max_pooling2d_3 (MaxPooling2D)  (None, 32, 32, 400)  0           activation_3[0][0]               \n",
            "__________________________________________________________________________________________________\n",
            "conv2d_16 (Conv2D)              (None, 32, 32, 800)  1280800     max_pooling2d_3[0][0]            \n",
            "__________________________________________________________________________________________________\n",
            "conv2d_18 (Conv2D)              (None, 32, 32, 800)  2880800     max_pooling2d_3[0][0]            \n",
            "__________________________________________________________________________________________________\n",
            "conv2d_17 (Conv2D)              (None, 32, 32, 800)  2560800     conv2d_16[0][0]                  \n",
            "__________________________________________________________________________________________________\n",
            "conv2d_19 (Conv2D)              (None, 32, 32, 800)  5760800     conv2d_18[0][0]                  \n",
            "__________________________________________________________________________________________________\n",
            "average_4 (Average)             (None, 32, 32, 800)  0           conv2d_17[0][0]                  \n",
            "                                                                 conv2d_19[0][0]                  \n",
            "__________________________________________________________________________________________________\n",
            "batch_normalization_4 (BatchNor (None, 32, 32, 800)  3200        average_4[0][0]                  \n",
            "__________________________________________________________________________________________________\n",
            "activation_4 (Activation)       (None, 32, 32, 800)  0           batch_normalization_4[0][0]      \n",
            "__________________________________________________________________________________________________\n",
            "conv2d_20 (Conv2D)              (None, 32, 32, 800)  5760800     activation_4[0][0]               \n",
            "__________________________________________________________________________________________________\n",
            "conv2d_21 (Conv2D)              (None, 32, 32, 800)  5760800     conv2d_20[0][0]                  \n",
            "__________________________________________________________________________________________________\n",
            "batch_normalization_5 (BatchNor (None, 32, 32, 800)  3200        conv2d_21[0][0]                  \n",
            "__________________________________________________________________________________________________\n",
            "activation_5 (Activation)       (None, 32, 32, 800)  0           batch_normalization_5[0][0]      \n",
            "__________________________________________________________________________________________________\n",
            "conv2d_transpose (Conv2DTranspo (None, 64, 64, 400)  1280400     activation_5[0][0]               \n",
            "__________________________________________________________________________________________________\n",
            "conv2d_transpose_2 (Conv2DTrans (None, 64, 64, 400)  2880400     activation_5[0][0]               \n",
            "__________________________________________________________________________________________________\n",
            "conv2d_transpose_1 (Conv2DTrans (None, 64, 64, 400)  640400      conv2d_transpose[0][0]           \n",
            "__________________________________________________________________________________________________\n",
            "conv2d_transpose_3 (Conv2DTrans (None, 64, 64, 400)  1440400     conv2d_transpose_2[0][0]         \n",
            "__________________________________________________________________________________________________\n",
            "average_5 (Average)             (None, 64, 64, 400)  0           conv2d_transpose_1[0][0]         \n",
            "                                                                 conv2d_transpose_3[0][0]         \n",
            "__________________________________________________________________________________________________\n",
            "re_lu (ReLU)                    (None, 64, 64, 400)  0           average_5[0][0]                  \n",
            "__________________________________________________________________________________________________\n",
            "add (Add)                       (None, 64, 64, 400)  0           re_lu[0][0]                      \n",
            "                                                                 activation_3[0][0]               \n",
            "__________________________________________________________________________________________________\n",
            "conv2d_transpose_4 (Conv2DTrans (None, 128, 128, 200 320200      add[0][0]                        \n",
            "__________________________________________________________________________________________________\n",
            "conv2d_transpose_6 (Conv2DTrans (None, 128, 128, 200 720200      add[0][0]                        \n",
            "__________________________________________________________________________________________________\n",
            "conv2d_transpose_5 (Conv2DTrans (None, 128, 128, 200 160200      conv2d_transpose_4[0][0]         \n",
            "__________________________________________________________________________________________________\n",
            "conv2d_transpose_7 (Conv2DTrans (None, 128, 128, 200 360200      conv2d_transpose_6[0][0]         \n",
            "__________________________________________________________________________________________________\n",
            "average_6 (Average)             (None, 128, 128, 200 0           conv2d_transpose_5[0][0]         \n",
            "                                                                 conv2d_transpose_7[0][0]         \n",
            "__________________________________________________________________________________________________\n",
            "re_lu_1 (ReLU)                  (None, 128, 128, 200 0           average_6[0][0]                  \n",
            "__________________________________________________________________________________________________\n",
            "add_1 (Add)                     (None, 128, 128, 200 0           re_lu_1[0][0]                    \n",
            "                                                                 activation_2[0][0]               \n",
            "__________________________________________________________________________________________________\n",
            "conv2d_transpose_8 (Conv2DTrans (None, 256, 256, 100 80100       add_1[0][0]                      \n",
            "__________________________________________________________________________________________________\n",
            "conv2d_transpose_10 (Conv2DTran (None, 256, 256, 100 180100      add_1[0][0]                      \n",
            "__________________________________________________________________________________________________\n",
            "conv2d_transpose_9 (Conv2DTrans (None, 256, 256, 100 40100       conv2d_transpose_8[0][0]         \n",
            "__________________________________________________________________________________________________\n",
            "conv2d_transpose_11 (Conv2DTran (None, 256, 256, 100 90100       conv2d_transpose_10[0][0]        \n",
            "__________________________________________________________________________________________________\n",
            "average_7 (Average)             (None, 256, 256, 100 0           conv2d_transpose_9[0][0]         \n",
            "                                                                 conv2d_transpose_11[0][0]        \n",
            "__________________________________________________________________________________________________\n",
            "re_lu_2 (ReLU)                  (None, 256, 256, 100 0           average_7[0][0]                  \n",
            "__________________________________________________________________________________________________\n",
            "add_2 (Add)                     (None, 256, 256, 100 0           re_lu_2[0][0]                    \n",
            "                                                                 activation_1[0][0]               \n",
            "__________________________________________________________________________________________________\n",
            "conv2d_transpose_12 (Conv2DTran (None, 512, 512, 50) 20050       add_2[0][0]                      \n",
            "__________________________________________________________________________________________________\n",
            "conv2d_transpose_14 (Conv2DTran (None, 512, 512, 50) 45050       add_2[0][0]                      \n",
            "__________________________________________________________________________________________________\n",
            "conv2d_transpose_13 (Conv2DTran (None, 512, 512, 50) 10050       conv2d_transpose_12[0][0]        \n",
            "__________________________________________________________________________________________________\n",
            "conv2d_transpose_15 (Conv2DTran (None, 512, 512, 50) 22550       conv2d_transpose_14[0][0]        \n",
            "__________________________________________________________________________________________________\n",
            "average_8 (Average)             (None, 512, 512, 50) 0           conv2d_transpose_13[0][0]        \n",
            "                                                                 conv2d_transpose_15[0][0]        \n",
            "__________________________________________________________________________________________________\n",
            "re_lu_3 (ReLU)                  (None, 512, 512, 50) 0           average_8[0][0]                  \n",
            "__________________________________________________________________________________________________\n",
            "add_3 (Add)                     (None, 512, 512, 50) 0           re_lu_3[0][0]                    \n",
            "                                                                 activation[0][0]                 \n",
            "__________________________________________________________________________________________________\n",
            "dropout (Dropout)               (None, 512, 512, 50) 0           add_3[0][0]                      \n",
            "__________________________________________________________________________________________________\n",
            "conv2d_22 (Conv2D)              (None, 512, 512, 3)  153         dropout[0][0]                    \n",
            "==================================================================================================\n",
            "Total params: 35,846,903\n",
            "Trainable params: 35,842,203\n",
            "Non-trainable params: 4,700\n",
            "__________________________________________________________________________________________________\n",
            "Model: \"model\"\n",
            "__________________________________________________________________________________________________\n",
            "Layer (type)                    Output Shape         Param #     Connected to                     \n",
            "==================================================================================================\n",
            "input_1 (InputLayer)            [(None, 512, 512, 3) 0                                            \n",
            "__________________________________________________________________________________________________\n",
            "conv2d (Conv2D)                 (None, 512, 512, 50) 650         input_1[0][0]                    \n",
            "__________________________________________________________________________________________________\n",
            "conv2d_2 (Conv2D)               (None, 512, 512, 50) 1400        input_1[0][0]                    \n",
            "__________________________________________________________________________________________________\n",
            "conv2d_1 (Conv2D)               (None, 512, 512, 50) 10050       conv2d[0][0]                     \n",
            "__________________________________________________________________________________________________\n",
            "conv2d_3 (Conv2D)               (None, 512, 512, 50) 22550       conv2d_2[0][0]                   \n",
            "__________________________________________________________________________________________________\n",
            "average (Average)               (None, 512, 512, 50) 0           conv2d_1[0][0]                   \n",
            "                                                                 conv2d_3[0][0]                   \n",
            "__________________________________________________________________________________________________\n",
            "batch_normalization (BatchNorma (None, 512, 512, 50) 200         average[0][0]                    \n",
            "__________________________________________________________________________________________________\n",
            "activation (Activation)         (None, 512, 512, 50) 0           batch_normalization[0][0]        \n",
            "__________________________________________________________________________________________________\n",
            "max_pooling2d (MaxPooling2D)    (None, 256, 256, 50) 0           activation[0][0]                 \n",
            "__________________________________________________________________________________________________\n",
            "conv2d_4 (Conv2D)               (None, 256, 256, 100 20100       max_pooling2d[0][0]              \n",
            "__________________________________________________________________________________________________\n",
            "conv2d_6 (Conv2D)               (None, 256, 256, 100 45100       max_pooling2d[0][0]              \n",
            "__________________________________________________________________________________________________\n",
            "conv2d_5 (Conv2D)               (None, 256, 256, 100 40100       conv2d_4[0][0]                   \n",
            "__________________________________________________________________________________________________\n",
            "conv2d_7 (Conv2D)               (None, 256, 256, 100 40100       conv2d_6[0][0]                   \n",
            "__________________________________________________________________________________________________\n",
            "average_1 (Average)             (None, 256, 256, 100 0           conv2d_5[0][0]                   \n",
            "                                                                 conv2d_7[0][0]                   \n",
            "__________________________________________________________________________________________________\n",
            "batch_normalization_1 (BatchNor (None, 256, 256, 100 400         average_1[0][0]                  \n",
            "__________________________________________________________________________________________________\n",
            "activation_1 (Activation)       (None, 256, 256, 100 0           batch_normalization_1[0][0]      \n",
            "__________________________________________________________________________________________________\n",
            "max_pooling2d_1 (MaxPooling2D)  (None, 128, 128, 100 0           activation_1[0][0]               \n",
            "__________________________________________________________________________________________________\n",
            "conv2d_8 (Conv2D)               (None, 128, 128, 200 80200       max_pooling2d_1[0][0]            \n",
            "__________________________________________________________________________________________________\n",
            "conv2d_9 (Conv2D)               (None, 128, 128, 200 160200      conv2d_8[0][0]                   \n",
            "__________________________________________________________________________________________________\n",
            "average_2 (Average)             (None, 128, 128, 200 0           conv2d_9[0][0]                   \n",
            "                                                                 conv2d_9[0][0]                   \n",
            "__________________________________________________________________________________________________\n",
            "batch_normalization_2 (BatchNor (None, 128, 128, 200 800         average_2[0][0]                  \n",
            "__________________________________________________________________________________________________\n",
            "activation_2 (Activation)       (None, 128, 128, 200 0           batch_normalization_2[0][0]      \n",
            "__________________________________________________________________________________________________\n",
            "max_pooling2d_2 (MaxPooling2D)  (None, 64, 64, 200)  0           activation_2[0][0]               \n",
            "__________________________________________________________________________________________________\n",
            "conv2d_12 (Conv2D)              (None, 64, 64, 400)  320400      max_pooling2d_2[0][0]            \n",
            "__________________________________________________________________________________________________\n",
            "conv2d_14 (Conv2D)              (None, 64, 64, 400)  720400      max_pooling2d_2[0][0]            \n",
            "__________________________________________________________________________________________________\n",
            "conv2d_13 (Conv2D)              (None, 64, 64, 400)  640400      conv2d_12[0][0]                  \n",
            "__________________________________________________________________________________________________\n",
            "conv2d_15 (Conv2D)              (None, 64, 64, 400)  1440400     conv2d_14[0][0]                  \n",
            "__________________________________________________________________________________________________\n",
            "average_3 (Average)             (None, 64, 64, 400)  0           conv2d_13[0][0]                  \n",
            "                                                                 conv2d_15[0][0]                  \n",
            "__________________________________________________________________________________________________\n",
            "batch_normalization_3 (BatchNor (None, 64, 64, 400)  1600        average_3[0][0]                  \n",
            "__________________________________________________________________________________________________\n",
            "activation_3 (Activation)       (None, 64, 64, 400)  0           batch_normalization_3[0][0]      \n",
            "__________________________________________________________________________________________________\n",
            "max_pooling2d_3 (MaxPooling2D)  (None, 32, 32, 400)  0           activation_3[0][0]               \n",
            "__________________________________________________________________________________________________\n",
            "conv2d_16 (Conv2D)              (None, 32, 32, 800)  1280800     max_pooling2d_3[0][0]            \n",
            "__________________________________________________________________________________________________\n",
            "conv2d_18 (Conv2D)              (None, 32, 32, 800)  2880800     max_pooling2d_3[0][0]            \n",
            "__________________________________________________________________________________________________\n",
            "conv2d_17 (Conv2D)              (None, 32, 32, 800)  2560800     conv2d_16[0][0]                  \n",
            "__________________________________________________________________________________________________\n",
            "conv2d_19 (Conv2D)              (None, 32, 32, 800)  5760800     conv2d_18[0][0]                  \n",
            "__________________________________________________________________________________________________\n",
            "average_4 (Average)             (None, 32, 32, 800)  0           conv2d_17[0][0]                  \n",
            "                                                                 conv2d_19[0][0]                  \n",
            "__________________________________________________________________________________________________\n",
            "batch_normalization_4 (BatchNor (None, 32, 32, 800)  3200        average_4[0][0]                  \n",
            "__________________________________________________________________________________________________\n",
            "activation_4 (Activation)       (None, 32, 32, 800)  0           batch_normalization_4[0][0]      \n",
            "__________________________________________________________________________________________________\n",
            "conv2d_20 (Conv2D)              (None, 32, 32, 800)  5760800     activation_4[0][0]               \n",
            "__________________________________________________________________________________________________\n",
            "conv2d_21 (Conv2D)              (None, 32, 32, 800)  5760800     conv2d_20[0][0]                  \n",
            "__________________________________________________________________________________________________\n",
            "batch_normalization_5 (BatchNor (None, 32, 32, 800)  3200        conv2d_21[0][0]                  \n",
            "__________________________________________________________________________________________________\n",
            "activation_5 (Activation)       (None, 32, 32, 800)  0           batch_normalization_5[0][0]      \n",
            "__________________________________________________________________________________________________\n",
            "conv2d_transpose (Conv2DTranspo (None, 64, 64, 400)  1280400     activation_5[0][0]               \n",
            "__________________________________________________________________________________________________\n",
            "conv2d_transpose_2 (Conv2DTrans (None, 64, 64, 400)  2880400     activation_5[0][0]               \n",
            "__________________________________________________________________________________________________\n",
            "conv2d_transpose_1 (Conv2DTrans (None, 64, 64, 400)  640400      conv2d_transpose[0][0]           \n",
            "__________________________________________________________________________________________________\n",
            "conv2d_transpose_3 (Conv2DTrans (None, 64, 64, 400)  1440400     conv2d_transpose_2[0][0]         \n",
            "__________________________________________________________________________________________________\n",
            "average_5 (Average)             (None, 64, 64, 400)  0           conv2d_transpose_1[0][0]         \n",
            "                                                                 conv2d_transpose_3[0][0]         \n",
            "__________________________________________________________________________________________________\n",
            "re_lu (ReLU)                    (None, 64, 64, 400)  0           average_5[0][0]                  \n",
            "__________________________________________________________________________________________________\n",
            "add (Add)                       (None, 64, 64, 400)  0           re_lu[0][0]                      \n",
            "                                                                 activation_3[0][0]               \n",
            "__________________________________________________________________________________________________\n",
            "conv2d_transpose_4 (Conv2DTrans (None, 128, 128, 200 320200      add[0][0]                        \n",
            "__________________________________________________________________________________________________\n",
            "conv2d_transpose_6 (Conv2DTrans (None, 128, 128, 200 720200      add[0][0]                        \n",
            "__________________________________________________________________________________________________\n",
            "conv2d_transpose_5 (Conv2DTrans (None, 128, 128, 200 160200      conv2d_transpose_4[0][0]         \n",
            "__________________________________________________________________________________________________\n",
            "conv2d_transpose_7 (Conv2DTrans (None, 128, 128, 200 360200      conv2d_transpose_6[0][0]         \n",
            "__________________________________________________________________________________________________\n",
            "average_6 (Average)             (None, 128, 128, 200 0           conv2d_transpose_5[0][0]         \n",
            "                                                                 conv2d_transpose_7[0][0]         \n",
            "__________________________________________________________________________________________________\n",
            "re_lu_1 (ReLU)                  (None, 128, 128, 200 0           average_6[0][0]                  \n",
            "__________________________________________________________________________________________________\n",
            "add_1 (Add)                     (None, 128, 128, 200 0           re_lu_1[0][0]                    \n",
            "                                                                 activation_2[0][0]               \n",
            "__________________________________________________________________________________________________\n",
            "conv2d_transpose_8 (Conv2DTrans (None, 256, 256, 100 80100       add_1[0][0]                      \n",
            "__________________________________________________________________________________________________\n",
            "conv2d_transpose_10 (Conv2DTran (None, 256, 256, 100 180100      add_1[0][0]                      \n",
            "__________________________________________________________________________________________________\n",
            "conv2d_transpose_9 (Conv2DTrans (None, 256, 256, 100 40100       conv2d_transpose_8[0][0]         \n",
            "__________________________________________________________________________________________________\n",
            "conv2d_transpose_11 (Conv2DTran (None, 256, 256, 100 90100       conv2d_transpose_10[0][0]        \n",
            "__________________________________________________________________________________________________\n",
            "average_7 (Average)             (None, 256, 256, 100 0           conv2d_transpose_9[0][0]         \n",
            "                                                                 conv2d_transpose_11[0][0]        \n",
            "__________________________________________________________________________________________________\n",
            "re_lu_2 (ReLU)                  (None, 256, 256, 100 0           average_7[0][0]                  \n",
            "__________________________________________________________________________________________________\n",
            "add_2 (Add)                     (None, 256, 256, 100 0           re_lu_2[0][0]                    \n",
            "                                                                 activation_1[0][0]               \n",
            "__________________________________________________________________________________________________\n",
            "conv2d_transpose_12 (Conv2DTran (None, 512, 512, 50) 20050       add_2[0][0]                      \n",
            "__________________________________________________________________________________________________\n",
            "conv2d_transpose_14 (Conv2DTran (None, 512, 512, 50) 45050       add_2[0][0]                      \n",
            "__________________________________________________________________________________________________\n",
            "conv2d_transpose_13 (Conv2DTran (None, 512, 512, 50) 10050       conv2d_transpose_12[0][0]        \n",
            "__________________________________________________________________________________________________\n",
            "conv2d_transpose_15 (Conv2DTran (None, 512, 512, 50) 22550       conv2d_transpose_14[0][0]        \n",
            "__________________________________________________________________________________________________\n",
            "average_8 (Average)             (None, 512, 512, 50) 0           conv2d_transpose_13[0][0]        \n",
            "                                                                 conv2d_transpose_15[0][0]        \n",
            "__________________________________________________________________________________________________\n",
            "re_lu_3 (ReLU)                  (None, 512, 512, 50) 0           average_8[0][0]                  \n",
            "__________________________________________________________________________________________________\n",
            "add_3 (Add)                     (None, 512, 512, 50) 0           re_lu_3[0][0]                    \n",
            "                                                                 activation[0][0]                 \n",
            "__________________________________________________________________________________________________\n",
            "dropout (Dropout)               (None, 512, 512, 50) 0           add_3[0][0]                      \n",
            "__________________________________________________________________________________________________\n",
            "conv2d_22 (Conv2D)              (None, 512, 512, 3)  153         dropout[0][0]                    \n",
            "==================================================================================================\n",
            "Total params: 35,846,903\n",
            "Trainable params: 35,842,203\n",
            "Non-trainable params: 4,700\n",
            "__________________________________________________________________________________________________\n"
          ],
          "name": "stdout"
        }
      ]
    },
    {
      "cell_type": "markdown",
      "metadata": {
        "id": "NGzh16WTnFJW"
      },
      "source": [
        "## Prepare the model for training"
      ]
    },
    {
      "cell_type": "code",
      "metadata": {
        "id": "9MlmYGVMnFJW"
      },
      "source": [
        "# ---------------------------- #\n",
        "#    Optimization parameters   #\n",
        "# ---------------------------- #\n",
        "\n",
        "# Loss\n",
        "loss = tf.keras.losses.SparseCategoricalCrossentropy() \n",
        "# Learning rate\n",
        "lr = 1e-4\n",
        "optimizer = tf.keras.optimizers.Adam(learning_rate=lr)\n",
        "\n",
        "\n",
        "# Metric for image segmentation \n",
        "\n",
        "def meanIoU(y_true, y_pred):\n",
        "    # get predicted class from softmax\n",
        "    y_pred = tf.expand_dims(tf.argmax(y_pred, -1), -1)\n",
        "\n",
        "    per_class_iou = []\n",
        "\n",
        "    for i in range(1,3): # exclude the background class 0\n",
        "    \n",
        "      # Get prediction and target related to only a single class (i)\n",
        "      class_pred = tf.cast(tf.where(y_pred == i, 1, 0), tf.float32)\n",
        "      class_true = tf.cast(tf.where(y_true == i, 1, 0), tf.float32)\n",
        "      intersection = tf.reduce_sum(class_true * class_pred)\n",
        "      union = tf.reduce_sum(class_true) + tf.reduce_sum(class_pred) - intersection\n",
        "    \n",
        "      iou = (intersection + 1e-7) / (union + 1e-7)\n",
        "      per_class_iou.append(iou)\n",
        "\n",
        "    return tf.reduce_mean(per_class_iou)\n",
        "\n",
        "# ------------------- #\n",
        "#  Validation metrics #\n",
        "# ------------------- #\n",
        "\n",
        "metrics = [ meanIoU,'accuracy']\n",
        "\n",
        "# Compile Model\n",
        "model.compile(optimizer=optimizer, loss=loss, metrics=metrics)"
      ],
      "execution_count": null,
      "outputs": []
    },
    {
      "cell_type": "markdown",
      "metadata": {
        "id": "PA6D_TBknFJZ"
      },
      "source": [
        "## Training with callbacks"
      ]
    },
    {
      "cell_type": "code",
      "metadata": {
        "colab": {
          "base_uri": "https://localhost:8080/"
        },
        "id": "3XiwaKZhnFJa",
        "scrolled": true,
        "outputId": "73d60d12-472e-4e77-8ceb-5c0c32322398"
      },
      "source": [
        "callbacks = []\n",
        "\n",
        "early_stop = True\n",
        "if early_stop:\n",
        "    es_callback = tf.keras.callbacks.EarlyStopping(monitor='val_loss', patience=5)\n",
        "    callbacks.append(es_callback)\n",
        "\n",
        "\n",
        "history=model.fit(x=train_dataset,\n",
        "          epochs=15,  \n",
        "          steps_per_epoch=500,\n",
        "          validation_data=valid_dataset,\n",
        "          validation_steps=150, \n",
        "          callbacks=callbacks)"
      ],
      "execution_count": null,
      "outputs": [
        {
          "output_type": "stream",
          "text": [
            "Epoch 1/15\n",
            "500/500 [==============================] - 1917s 4s/step - loss: 0.2818 - meanIoU: 0.2232 - accuracy: 0.8989 - val_loss: 0.7954 - val_meanIoU: 0.0081 - val_accuracy: 0.8686\n",
            "Epoch 2/15\n",
            "500/500 [==============================] - 1630s 3s/step - loss: 0.0808 - meanIoU: 0.3478 - accuracy: 0.9733 - val_loss: 0.2942 - val_meanIoU: 0.3115 - val_accuracy: 0.9190\n",
            "Epoch 3/15\n",
            "500/500 [==============================] - 1616s 3s/step - loss: 0.0704 - meanIoU: 0.4305 - accuracy: 0.9754 - val_loss: 0.5038 - val_meanIoU: 0.2707 - val_accuracy: 0.9244\n",
            "Epoch 4/15\n",
            "500/500 [==============================] - 1625s 3s/step - loss: 0.0624 - meanIoU: 0.5159 - accuracy: 0.9779 - val_loss: 0.2636 - val_meanIoU: 0.3876 - val_accuracy: 0.9394\n",
            "Epoch 5/15\n",
            "500/500 [==============================] - 1640s 3s/step - loss: 0.0565 - meanIoU: 0.5453 - accuracy: 0.9795 - val_loss: 0.1957 - val_meanIoU: 0.4857 - val_accuracy: 0.9458\n",
            "Epoch 6/15\n",
            "500/500 [==============================] - 1634s 3s/step - loss: 0.0504 - meanIoU: 0.5869 - accuracy: 0.9810 - val_loss: 0.3181 - val_meanIoU: 0.4228 - val_accuracy: 0.9417\n",
            "Epoch 7/15\n",
            "500/500 [==============================] - 1628s 3s/step - loss: 0.0431 - meanIoU: 0.6508 - accuracy: 0.9831 - val_loss: 0.3357 - val_meanIoU: 0.3951 - val_accuracy: 0.9367\n",
            "Epoch 8/15\n",
            "500/500 [==============================] - 1627s 3s/step - loss: 0.0454 - meanIoU: 0.6278 - accuracy: 0.9825 - val_loss: 0.2424 - val_meanIoU: 0.4591 - val_accuracy: 0.9433\n",
            "Epoch 9/15\n",
            "500/500 [==============================] - 1649s 3s/step - loss: 0.0372 - meanIoU: 0.6959 - accuracy: 0.9850 - val_loss: 0.3650 - val_meanIoU: 0.4269 - val_accuracy: 0.9409\n",
            "Epoch 10/15\n",
            "500/500 [==============================] - 1633s 3s/step - loss: 0.0345 - meanIoU: 0.7132 - accuracy: 0.9859 - val_loss: 0.3014 - val_meanIoU: 0.4938 - val_accuracy: 0.9459\n"
          ],
          "name": "stdout"
        }
      ]
    },
    {
      "cell_type": "code",
      "metadata": {
        "id": "bqbE6rsgL_Mj"
      },
      "source": [
        "#------------------------------\n",
        "#       MODEL SAVING\n",
        "#------------------------------\n",
        "\n",
        "out = '/content/drive/My Drive/'\n",
        "\n",
        "\n",
        "\n",
        "model_name = 'Bipbip_specific_newsize_all'\n",
        "\n",
        "model.save(out + '/' + model_name +  '.h5')\n",
        "model.save_weights(out + '/weights_' + model_name )"
      ],
      "execution_count": null,
      "outputs": []
    },
    {
      "cell_type": "code",
      "metadata": {
        "colab": {
          "base_uri": "https://localhost:8080/",
          "height": 1000
        },
        "id": "Uqoj4qdGggtf",
        "outputId": "8b091de5-b7d9-4929-8131-c125fe512f0d"
      },
      "source": [
        "# list all data in history\n",
        "print(history.history.keys())\n",
        "# summarize history for accuracy\n",
        "plt.plot(history.history['accuracy'])\n",
        "plt.plot(history.history['val_accuracy'])\n",
        "plt.title('model accuracy')\n",
        "plt.ylabel('accuracy')\n",
        "plt.xlabel('epoch')\n",
        "plt.legend(['train', 'validation'], loc='upper left')\n",
        "plt.show()\n",
        "# summarize history for loss\n",
        "plt.plot(history.history['loss'])\n",
        "plt.plot(history.history['val_loss'])\n",
        "plt.title('model loss')\n",
        "plt.ylabel('loss')\n",
        "plt.xlabel('epoch')\n",
        "plt.legend(['train', 'validation'], loc='upper left')\n",
        "plt.show()\n",
        "# summarize history for meanIoU\n",
        "plt.plot(history.history['meanIoU'])\n",
        "plt.plot(history.history['val_meanIoU'])\n",
        "plt.title('model meanIoU')\n",
        "plt.ylabel('meanIoU')\n",
        "plt.xlabel('epoch')\n",
        "plt.legend(['train', 'validation'], loc='upper left')\n",
        "plt.show()"
      ],
      "execution_count": null,
      "outputs": [
        {
          "output_type": "stream",
          "text": [
            "dict_keys(['loss', 'meanIoU', 'accuracy', 'val_loss', 'val_meanIoU', 'val_accuracy'])\n"
          ],
          "name": "stdout"
        },
        {
          "output_type": "execute_result",
          "data": {
            "text/plain": [
              "[<matplotlib.lines.Line2D at 0x7ff70edf6c50>]"
            ]
          },
          "metadata": {
            "tags": []
          },
          "execution_count": 26
        },
        {
          "output_type": "execute_result",
          "data": {
            "text/plain": [
              "[<matplotlib.lines.Line2D at 0x7ff70eb568d0>]"
            ]
          },
          "metadata": {
            "tags": []
          },
          "execution_count": 26
        },
        {
          "output_type": "execute_result",
          "data": {
            "text/plain": [
              "Text(0.5, 1.0, 'model accuracy')"
            ]
          },
          "metadata": {
            "tags": []
          },
          "execution_count": 26
        },
        {
          "output_type": "execute_result",
          "data": {
            "text/plain": [
              "Text(0, 0.5, 'accuracy')"
            ]
          },
          "metadata": {
            "tags": []
          },
          "execution_count": 26
        },
        {
          "output_type": "execute_result",
          "data": {
            "text/plain": [
              "Text(0.5, 0, 'epoch')"
            ]
          },
          "metadata": {
            "tags": []
          },
          "execution_count": 26
        },
        {
          "output_type": "execute_result",
          "data": {
            "text/plain": [
              "<matplotlib.legend.Legend at 0x7ff70eb96eb8>"
            ]
          },
          "metadata": {
            "tags": []
          },
          "execution_count": 26
        },
        {
          "output_type": "display_data",
          "data": {
            "image/png": "[encoded data removed]",
            "text/plain": [
              "<Figure size 432x288 with 1 Axes>"
            ]
          },
          "metadata": {
            "tags": []
          }
        },
        {
          "output_type": "execute_result",
          "data": {
            "text/plain": [
              "[<matplotlib.lines.Line2D at 0x7ff70e924080>]"
            ]
          },
          "metadata": {
            "tags": []
          },
          "execution_count": 26
        },
        {
          "output_type": "execute_result",
          "data": {
            "text/plain": [
              "[<matplotlib.lines.Line2D at 0x7ff70ed50b70>]"
            ]
          },
          "metadata": {
            "tags": []
          },
          "execution_count": 26
        },
        {
          "output_type": "execute_result",
          "data": {
            "text/plain": [
              "Text(0.5, 1.0, 'model loss')"
            ]
          },
          "metadata": {
            "tags": []
          },
          "execution_count": 26
        },
        {
          "output_type": "execute_result",
          "data": {
            "text/plain": [
              "Text(0, 0.5, 'loss')"
            ]
          },
          "metadata": {
            "tags": []
          },
          "execution_count": 26
        },
        {
          "output_type": "execute_result",
          "data": {
            "text/plain": [
              "Text(0.5, 0, 'epoch')"
            ]
          },
          "metadata": {
            "tags": []
          },
          "execution_count": 26
        },
        {
          "output_type": "execute_result",
          "data": {
            "text/plain": [
              "<matplotlib.legend.Legend at 0x7ff70edaf978>"
            ]
          },
          "metadata": {
            "tags": []
          },
          "execution_count": 26
        },
        {
          "output_type": "display_data",
          "data": {
            "image/png": "[encoded data removed]",
            "text/plain": [
              "<Figure size 432x288 with 1 Axes>"
            ]
          },
          "metadata": {
            "tags": []
          }
        },
        {
          "output_type": "execute_result",
          "data": {
            "text/plain": [
              "[<matplotlib.lines.Line2D at 0x7ff70e3f4e48>]"
            ]
          },
          "metadata": {
            "tags": []
          },
          "execution_count": 26
        },
        {
          "output_type": "execute_result",
          "data": {
            "text/plain": [
              "[<matplotlib.lines.Line2D at 0x7ff70edaf898>]"
            ]
          },
          "metadata": {
            "tags": []
          },
          "execution_count": 26
        },
        {
          "output_type": "execute_result",
          "data": {
            "text/plain": [
              "Text(0.5, 1.0, 'model meanIoU')"
            ]
          },
          "metadata": {
            "tags": []
          },
          "execution_count": 26
        },
        {
          "output_type": "execute_result",
          "data": {
            "text/plain": [
              "Text(0, 0.5, 'meanIoU')"
            ]
          },
          "metadata": {
            "tags": []
          },
          "execution_count": 26
        },
        {
          "output_type": "execute_result",
          "data": {
            "text/plain": [
              "Text(0.5, 0, 'epoch')"
            ]
          },
          "metadata": {
            "tags": []
          },
          "execution_count": 26
        },
        {
          "output_type": "execute_result",
          "data": {
            "text/plain": [
              "<matplotlib.legend.Legend at 0x7ff70e903240>"
            ]
          },
          "metadata": {
            "tags": []
          },
          "execution_count": 26
        },
        {
          "output_type": "display_data",
          "data": {
            "image/png": "[encoded data removed]",
            "text/plain": [
              "<Figure size 432x288 with 1 Axes>"
            ]
          },
          "metadata": {
            "tags": []
          }
        }
      ]
    }
  ]
}