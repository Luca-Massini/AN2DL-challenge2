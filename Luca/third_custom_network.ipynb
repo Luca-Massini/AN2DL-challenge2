{
  "nbformat": 4,
  "nbformat_minor": 0,
  "metadata": {
    "accelerator": "GPU",
    "colab": {
      "name": "Copia_di_second_custom_network_(1).ipynb",
      "provenance": [],
      "collapsed_sections": [],
      "include_colab_link": true
    },
    "kernelspec": {
      "display_name": "Python 3",
      "name": "python3"
    }
  },
  "cells": [
    {
      "cell_type": "markdown",
      "metadata": {
        "id": "view-in-github",
        "colab_type": "text"
      },
      "source": [
        "<a href=\"https://colab.research.google.com/github/Luca-Massini/AN2DL-challenge/blob/master/Luca/third_custom_network.ipynb\" target=\"_parent\"><img src=\"https://colab.research.google.com/assets/colab-badge.svg\" alt=\"Open In Colab\"/></a>"
      ]
    },
    {
      "cell_type": "code",
      "metadata": {
        "id": "1dLtoPlwrM6I"
      },
      "source": [
        "from IPython.core.interactiveshell import InteractiveShell\r\n",
        "InteractiveShell.ast_node_interactivity = \"all\"\r\n",
        "from keras.callbacks import EarlyStopping, ModelCheckpoint"
      ],
      "execution_count": 1,
      "outputs": []
    },
    {
      "cell_type": "code",
      "metadata": {
        "id": "z-dut310riRy"
      },
      "source": [
        "import os\r\n",
        "\r\n",
        "import tensorflow as tf\r\n",
        "import numpy as np\r\n",
        "\r\n",
        "# Set the seed for random operations. \r\n",
        "# This let our experiments to be reproducible. \r\n",
        "SEED = 1234\r\n",
        "tf.random.set_seed(SEED)"
      ],
      "execution_count": 2,
      "outputs": []
    },
    {
      "cell_type": "code",
      "metadata": {
        "colab": {
          "base_uri": "https://localhost:8080/"
        },
        "id": "bQoHXl54rkOZ",
        "outputId": "2b1e4c39-bdac-481d-db7e-f0afd5a5e5da"
      },
      "source": [
        "cwd = os.getcwd()\r\n",
        "from google.colab import drive\r\n",
        "drive.mount('/content/drive')"
      ],
      "execution_count": 4,
      "outputs": [
        {
          "output_type": "stream",
          "text": [
            "Drive already mounted at /content/drive; to attempt to forcibly remount, call drive.mount(\"/content/drive\", force_remount=True).\n"
          ],
          "name": "stdout"
        }
      ]
    },
    {
      "cell_type": "code",
      "metadata": {
        "id": "cUYGEf-irtZB"
      },
      "source": [
        "# ImageDataGenerator\r\n",
        "# ------------------\r\n",
        "\r\n",
        "from tensorflow.keras.preprocessing.image import ImageDataGenerator\r\n",
        "\r\n",
        "apply_data_augmentation = True\r\n",
        "\r\n",
        "# Create training ImageDataGenerator object\r\n",
        "# We need two different generators for images and corresponding masks\r\n",
        "if apply_data_augmentation:\r\n",
        "    img_data_gen = ImageDataGenerator(rotation_range=90,\r\n",
        "                                      width_shift_range=30,\r\n",
        "                                      height_shift_range=30,\r\n",
        "                                      zoom_range=0.4,\r\n",
        "                                      horizontal_flip=True,\r\n",
        "                                      vertical_flip=True,\r\n",
        "                                      fill_mode='reflect',)\r\n",
        "    mask_data_gen = ImageDataGenerator(rotation_range=90,\r\n",
        "                                       width_shift_range=30,\r\n",
        "                                       height_shift_range=30,\r\n",
        "                                       zoom_range=0.4,\r\n",
        "                                       horizontal_flip=True,\r\n",
        "                                       vertical_flip=True,\r\n",
        "                                       fill_mode='reflect')"
      ],
      "execution_count": 5,
      "outputs": []
    },
    {
      "cell_type": "code",
      "metadata": {
        "id": "BFHux1DjsHwB"
      },
      "source": [
        "from PIL import Image\r\n",
        "\r\n",
        "class CustomDataset(tf.keras.utils.Sequence):\r\n",
        "\r\n",
        "  \"\"\"\r\n",
        "    CustomDataset inheriting from tf.keras.utils.Sequence.\r\n",
        "\r\n",
        "    3 main methods:\r\n",
        "      - __init__: save dataset params like directory, filenames..\r\n",
        "      - __len__: return the total number of samples in the dataset\r\n",
        "      - __getitem__: return a sample from the dataset\r\n",
        "\r\n",
        "    Note: \r\n",
        "      - the custom dataset return a single sample from the dataset. Then, we use \r\n",
        "        a tf.data.Dataset object to group samples into batches.\r\n",
        "      - in this case we have a different structure of the dataset in memory. \r\n",
        "        We have all the images in the same folder and the training and validation splits\r\n",
        "        are defined in text files.\r\n",
        "\r\n",
        "  \"\"\"\r\n",
        "\r\n",
        "  def __init__(self, dataset_dir, which_subset, img_generator=None, mask_generator=None, \r\n",
        "               preprocessing_function=None, out_shape=[512, 384],validation_part=0.2,projects=['Weedelec','Pead','Roseau','Bipbip'],plants=['Haricot','Mais']):\r\n",
        "    self.png_or_jpg = []\r\n",
        "    subset_filenames = []\r\n",
        "    subset_direc = []\r\n",
        "    for project in projects :\r\n",
        "      for plant in plants :\r\n",
        "        path=os.path.join(dataset_dir,project,plant)\r\n",
        "        list_ = os.listdir(os.path.join(path,'Images')) # dir is your directory path\r\n",
        "        number_files = len(list_)\r\n",
        "\r\n",
        "        training_num_max = int(number_files - int(number_files *  (1 - validation_part)))\r\n",
        "        if which_subset == 'training':\r\n",
        "          number_max = training_num_max\r\n",
        "          for ii in range(0,number_max):\r\n",
        "            subset_filenames.append(os.path.splitext(list_[ii])[0])\r\n",
        "            subset_direc.append(path)\r\n",
        "            if project!='Roseau':\r\n",
        "              self.png_or_jpg.append(1)\r\n",
        "            else:\r\n",
        "              self.png_or_jpg.append(0)\r\n",
        "        elif which_subset == 'validation':\r\n",
        "          number_max = number_files - training_num_max\r\n",
        "          for ii in range(number_files - 1, number_files - number_max, -1):\r\n",
        "            subset_filenames.append(os.path.splitext(list_[ii])[0])\r\n",
        "            subset_direc.append(path)\r\n",
        "            if project!='Roseau':\r\n",
        "              self.png_or_jpg.append(1)\r\n",
        "            else:\r\n",
        "              self.png_or_jpg.append(0)\r\n",
        "\r\n",
        "\r\n",
        "    self.which_subset = which_subset\r\n",
        "    self.dataset_dir = dataset_dir\r\n",
        "    self.subset_direc = subset_direc\r\n",
        "    self.subset_filenames = subset_filenames\r\n",
        "    self.img_generator = img_generator\r\n",
        "    self.mask_generator = mask_generator\r\n",
        "    self.preprocessing_function = preprocessing_function\r\n",
        "    self.out_shape = out_shape\r\n",
        "\r\n",
        "  def __len__(self):\r\n",
        "    return len(self.subset_filenames)\r\n",
        "\r\n",
        "  def read_rgb_mask(img_path):\r\n",
        "    '''\r\n",
        "    img_path: path to the mask file\r\n",
        "    Returns the numpy array containing target values\r\n",
        "    '''\r\n",
        "\r\n",
        "    mask_img = Image.open(img_path)\r\n",
        "    mask_arr = np.array(mask_img)\r\n",
        "\r\n",
        "    new_mask_arr = np.zeros(mask_arr.shape[:2], dtype=mask_arr.dtype)\r\n",
        "\r\n",
        "    # Use RGB dictionary in 'RGBtoTarget.txt' to convert RGB to target\r\n",
        "    new_mask_arr[np.where(np.all(mask_arr == [216, 124, 18], axis=-1))] = 0\r\n",
        "    new_mask_arr[np.where(np.all(mask_arr == [255, 255, 255], axis=-1))] = 1\r\n",
        "    new_mask_arr[np.where(np.all(mask_arr == [216, 67, 82], axis=-1))] = 2\r\n",
        "\r\n",
        "    return new_mask_arr\r\n",
        "  \r\n",
        "  def __getitem__(self, index):\r\n",
        "    # Read Image\r\n",
        "    curr_filename = self.subset_filenames[index]\r\n",
        "    curr_dir = self.subset_direc[index]\r\n",
        "    if self.png_or_jpg[index] != 0:\r\n",
        "      img = Image.open(os.path.join(curr_dir, 'Images', curr_filename + '.jpg'))\r\n",
        "    else:\r\n",
        "      img = Image.open(os.path.join(curr_dir, 'Images', curr_filename + '.png'))\r\n",
        "    mask = Image.open(os.path.join(curr_dir, 'Masks', curr_filename + '.png'))\r\n",
        "\r\n",
        "    # Resize image \r\n",
        "    img = img.resize(self.out_shape)\r\n",
        "    mask = mask.resize(self.out_shape, resample=Image.NEAREST)\r\n",
        "\r\n",
        "    mask_arr = np.array(mask)\r\n",
        "    new_mask_arr = np.zeros(mask_arr.shape[:2], dtype=mask_arr.dtype)\r\n",
        "\r\n",
        "    # Use RGB dictionary in 'RGBtoTarget.txt' to convert RGB to target\r\n",
        "    new_mask_arr[np.where(np.all(mask_arr == [216, 124, 18], axis=-1))] = 0\r\n",
        "    new_mask_arr[np.where(np.all(mask_arr == [255, 255, 255], axis=-1))] = 1\r\n",
        "    new_mask_arr[np.where(np.all(mask_arr == [216, 67, 82], axis=-1))] = 2\r\n",
        "    \r\n",
        "    img_arr = np.array(img)\r\n",
        "    mask_arr = new_mask_arr\r\n",
        "\r\n",
        "    # in this dataset 255 mask label is assigned to an additional class, which corresponds \r\n",
        "    # to the contours of the objects. We remove it for simplicity.\r\n",
        "    #mask_arr[mask_arr == 255] = 0  \r\n",
        "\r\n",
        "    mask_arr = np.expand_dims(mask_arr, -1)\r\n",
        "\r\n",
        "    if self.which_subset == 'training':\r\n",
        "      if self.img_generator is not None and self.mask_generator is not None:\r\n",
        "        # Perform data augmentation\r\n",
        "        # We can get a random transformation from the ImageDataGenerator using get_random_transform\r\n",
        "        # and we can apply it to the image using apply_transform\r\n",
        "        img_t = self.img_generator.get_random_transform(img_arr.shape, seed=SEED)\r\n",
        "        mask_t = self.mask_generator.get_random_transform(mask_arr.shape, seed=SEED)\r\n",
        "        img_arr = self.img_generator.apply_transform(img_arr, img_t)\r\n",
        "        # ImageDataGenerator use bilinear interpolation for augmenting the images.\r\n",
        "        # Thus, when applied to the masks it will output 'interpolated classes', which\r\n",
        "        # is an unwanted behaviour. As a trick, we can transform each class mask \r\n",
        "        # separately and then we can cast to integer values (as in the binary segmentation notebook).\r\n",
        "        # Finally, we merge the augmented binary masks to obtain the final segmentation mask.\r\n",
        "        out_mask = np.zeros_like(mask_arr)\r\n",
        "        for c in np.unique(mask_arr):\r\n",
        "          if c > 0:\r\n",
        "            curr_class_arr = np.float32(mask_arr == c)\r\n",
        "            curr_class_arr = self.mask_generator.apply_transform(curr_class_arr, mask_t)\r\n",
        "            # from [0, 1] to {0, 1}\r\n",
        "            curr_class_arr = np.uint8(curr_class_arr)\r\n",
        "            # recover original class\r\n",
        "            curr_class_arr = curr_class_arr * c \r\n",
        "            out_mask += curr_class_arr\r\n",
        "    else:\r\n",
        "      out_mask = mask_arr\r\n",
        "    \r\n",
        "    if self.preprocessing_function is not None:\r\n",
        "        img_arr = self.preprocessing_function(img_arr)\r\n",
        "\r\n",
        "    return img_arr, np.float32(out_mask)\r\n"
      ],
      "execution_count": 6,
      "outputs": []
    },
    {
      "cell_type": "code",
      "metadata": {
        "id": "0Hg9_If5tW2L"
      },
      "source": [
        "img_h = 384\r\n",
        "img_w = 512\r\n",
        "dataset = CustomDataset('/content/drive/MyDrive/Development_Dataset/Training/', 'training', \r\n",
        "                        img_generator=img_data_gen, mask_generator=mask_data_gen,\r\n",
        "                        preprocessing_function=None,validation_part=0.2,projects=['Weedelec','Pead','Roseau','Bipbip'],plants=['Haricot'])\r\n",
        "dataset_valid = CustomDataset('/content/drive/MyDrive/Development_Dataset/Training/', 'validation', \r\n",
        "                              preprocessing_function=None,validation_part=0.2,projects=['Weedelec','Pead','Roseau','Bipbip'],plants=['Haricot'])"
      ],
      "execution_count": 8,
      "outputs": []
    },
    {
      "cell_type": "code",
      "metadata": {
        "id": "HL2m0u6DssGh"
      },
      "source": [
        "img_h = 384\r\n",
        "img_w = 512\r\n",
        "\r\n",
        "train_dataset = tf.data.Dataset.from_generator(lambda: dataset,\r\n",
        "                                               output_types=(tf.float32, tf.float32),\r\n",
        "                                               output_shapes=([img_h, img_w, 3], [img_h, img_w, 1]))\r\n",
        "bs = 15\r\n",
        "train_dataset = train_dataset.batch(bs)\r\n",
        "\r\n",
        "train_dataset = train_dataset.repeat()\r\n",
        "\r\n",
        "valid_dataset = tf.data.Dataset.from_generator(lambda: dataset_valid,\r\n",
        "                                               output_types=(tf.float32, tf.float32),\r\n",
        "                                               output_shapes=([img_h, img_w, 3], [img_h, img_w,1]))\r\n",
        "valid_dataset = valid_dataset.batch(bs)\r\n",
        "\r\n",
        "valid_dataset = valid_dataset.repeat()"
      ],
      "execution_count": 9,
      "outputs": []
    },
    {
      "cell_type": "code",
      "metadata": {
        "id": "3OIO2vyqtQQ5",
        "colab": {
          "base_uri": "https://localhost:8080/",
          "height": 200
        },
        "outputId": "ff3c9e0e-9297-409f-bdf4-3f031d3aaf4f"
      },
      "source": [
        "# -------------------------\r\n",
        "import time\r\n",
        "from matplotlib import cm\r\n",
        "import matplotlib.pyplot as plt\r\n",
        "\r\n",
        "%matplotlib inline\r\n",
        "\r\n",
        "# Assign a color to each class\r\n",
        "evenly_spaced_interval = np.linspace(0, 1, 3)\r\n",
        "colors = [cm.rainbow(x) for x in evenly_spaced_interval]\r\n",
        "\r\n",
        "iterator = iter(valid_dataset)\r\n",
        "\r\n",
        "\r\n",
        "\r\n",
        "#-------------\r\n",
        "#Visualize the images and the masks\r\n",
        "#--------------\r\n",
        "fig, ax = plt.subplots(1, 2)\r\n",
        "\r\n",
        "augmented_img, target = next(iterator)\r\n",
        "augmented_img = augmented_img[0]   # First element\r\n",
        "augmented_img = augmented_img  # denormalize\r\n",
        "\r\n",
        "target = np.array(target[0, ..., 0])   # First element (squeezing channel dimension)\r\n",
        "\r\n",
        "print(np.unique(target))\r\n",
        "\r\n",
        "target_img = np.zeros([target.shape[0], target.shape[1], 3])\r\n",
        "\r\n",
        "target_img[np.where(target == 0)] = [0, 0, 0]\r\n",
        "for i in range(1, 3):\r\n",
        "  target_img[np.where(target == i)] = np.array(colors[i-1])[:3] * 255\r\n",
        "\r\n",
        "ax[0].imshow(np.uint8(augmented_img))\r\n",
        "ax[1].imshow(np.uint8(target_img))\r\n",
        "\r\n",
        "plt.show()"
      ],
      "execution_count": 10,
      "outputs": [
        {
          "output_type": "stream",
          "text": [
            "[0. 1. 2.]\n"
          ],
          "name": "stdout"
        },
        {
          "output_type": "execute_result",
          "data": {
            "text/plain": [
              "<matplotlib.image.AxesImage at 0x7ff3e0ca7ef0>"
            ]
          },
          "metadata": {
            "tags": []
          },
          "execution_count": 10
        },
        {
          "output_type": "execute_result",
          "data": {
            "text/plain": [
              "<matplotlib.image.AxesImage at 0x7ff3d02e5438>"
            ]
          },
          "metadata": {
            "tags": []
          },
          "execution_count": 10
        },
        {
          "output_type": "display_data",
          "data": {
            "image/png": "[encoded data removed]",
            "text/plain": [
              "<Figure size 432x288 with 2 Axes>"
            ]
          },
          "metadata": {
            "tags": [],
            "needs_background": "light"
          }
        }
      ]
    },
    {
      "cell_type": "code",
      "metadata": {
        "id": "7oZDaGX-yRx2"
      },
      "source": [
        "\r\n",
        "def create_model(start_f):\r\n",
        "  input_shape = [img_h, img_w, 3]\r\n",
        "  inputs = tf.keras.Input(shape=(img_h, img_w, 3))\r\n",
        "  x_0 = tf.keras.layers.Conv2D(filters = start_f, \r\n",
        "                                kernel_size = (3,3),\r\n",
        "                                strides=(1, 1),\r\n",
        "                                padding='same')(inputs)\r\n",
        "  x_1 = tf.keras.layers.Conv2D(filters = start_f, \r\n",
        "                                kernel_size = (3,3),\r\n",
        "                                strides=(1, 1),\r\n",
        "                                padding='same')(x_0)\r\n",
        "  input_shape = None\r\n",
        "\r\n",
        "\r\n",
        "  start_f *= 2\r\n",
        "  x_2 = tf.keras.layers.BatchNormalization(axis=-1)(x_1)\r\n",
        "  x_3  = tf.keras.layers.Activation('relu')(x_2)\r\n",
        "  x_4 = tf.keras.layers.MaxPool2D(pool_size=(2, 2))(x_3)\r\n",
        "  c_1 = tf.keras.layers.Conv2D(filters=start_f, \r\n",
        "                      kernel_size=(3, 3),\r\n",
        "                      strides = (1,1),\r\n",
        "                      padding = 'same')(x_4)\r\n",
        "  x_5 = tf.keras.layers.Conv2D(filters=start_f, \r\n",
        "                      kernel_size=(3, 3),\r\n",
        "                      strides = (1,1),\r\n",
        "                      padding = 'same')(c_1)\r\n",
        "  x_6 = tf.keras.layers.BatchNormalization(axis=-1)(x_5)\r\n",
        "  x_7 = tf.keras.layers.Activation('relu')(x_6)\r\n",
        "  x_8 = tf.keras.layers.MaxPool2D(pool_size=(2, 2))(x_7)\r\n",
        "\r\n",
        "\r\n",
        "\r\n",
        "  start_f *= 2\r\n",
        "\r\n",
        "  c_2 = tf.keras.layers.Conv2D(filters=start_f, \r\n",
        "                      kernel_size=(3, 3),\r\n",
        "                      strides = (1,1),\r\n",
        "                      padding = 'same')(x_8)\r\n",
        "  x_9 = tf.keras.layers.Conv2D(filters=start_f, \r\n",
        "                      kernel_size=(3, 3),\r\n",
        "                      strides = (1,1),\r\n",
        "                      padding = 'same')(c_2)\r\n",
        "  y_1 = tf.keras.layers.BatchNormalization(axis=-1)(x_9)\r\n",
        "  y_2 = tf.keras.layers.Activation('relu')(y_1)\r\n",
        "  y_3 = tf.keras.layers.MaxPool2D(pool_size=(2, 2))(y_2)\r\n",
        "\r\n",
        "\r\n",
        "\r\n",
        "\r\n",
        "  start_f *= 2\r\n",
        "\r\n",
        "  c_3 = tf.keras.layers.Conv2D(filters=start_f, \r\n",
        "                      kernel_size=(3, 3),\r\n",
        "                      strides = (1,1),\r\n",
        "                      padding = 'same')(y_3)\r\n",
        "  y_4 = tf.keras.layers.Conv2D(filters=start_f, \r\n",
        "                      kernel_size=(3, 3),\r\n",
        "                      strides = (1,1),\r\n",
        "                      padding = 'same')(c_3)\r\n",
        "  y_5 = tf.keras.layers.BatchNormalization(axis=-1)(y_4)\r\n",
        "  y_6 = tf.keras.layers.Activation('relu')(y_5)\r\n",
        "  y_7 = tf.keras.layers.MaxPool2D(pool_size=(2, 2))(y_6)\r\n",
        "\r\n",
        "\r\n",
        "\r\n",
        "\r\n",
        "\r\n",
        "  start_f *= 2\r\n",
        "\r\n",
        "  c_4 = tf.keras.layers.Conv2D(filters=start_f, \r\n",
        "                      kernel_size=(3, 3),\r\n",
        "                      strides = (1,1),\r\n",
        "                      padding = 'same')(y_7)\r\n",
        "  y_8 = tf.keras.layers.Conv2D(filters=start_f, \r\n",
        "                      kernel_size=(3, 3),\r\n",
        "                      strides = (1,1),\r\n",
        "                      padding = 'same')(c_4)\r\n",
        "  y_9 = tf.keras.layers.BatchNormalization(axis=-1)(y_8)\r\n",
        "  z_1 = tf.keras.layers.Activation('relu')(y_9)\r\n",
        "\r\n",
        "\r\n",
        "\r\n",
        "  #MIDDLE BLOCK\r\n",
        "  m_1 = tf.keras.layers.Conv2D(filters=start_f, \r\n",
        "                      kernel_size=(3, 3),\r\n",
        "                      strides = (1,1),\r\n",
        "                      padding = 'same')(z_1)\r\n",
        "  m_2 = tf.keras.layers.Conv2D(filters=start_f, \r\n",
        "                      kernel_size=(3, 3),\r\n",
        "                      strides = (1,1),\r\n",
        "                      padding = 'same')(m_1)\r\n",
        "  m_3 = tf.keras.layers.BatchNormalization(axis=-1)(m_2)\r\n",
        "  m_4 = tf.keras.layers.Activation('relu')(m_3)\r\n",
        "\r\n",
        "\r\n",
        "\r\n",
        "\r\n",
        "\r\n",
        "  #DECODER\r\n",
        "  start_f = start_f // 2\r\n",
        "\r\n",
        "  d_2 = tf.keras.layers.Conv2DTranspose(filters=start_f, kernel_size=(3,3), strides=(2, 2), padding='same')(m_4)\r\n",
        "  d_3 = tf.keras.layers.Conv2DTranspose(filters=start_f, kernel_size=(3,3), strides=(1,1), padding='same')(d_2)\r\n",
        "  d_4 = tf.keras.layers.ReLU()(d_3)\r\n",
        "  d_6 = tf.keras.layers.Add()([d_4,y_6])\r\n",
        "\r\n",
        "  start_f = start_f // 2\r\n",
        "\r\n",
        "  d_7 = tf.keras.layers.Conv2DTranspose(filters=start_f, kernel_size=(3,3), strides=(2, 2), padding='same')(d_6)\r\n",
        "  d_8 = tf.keras.layers.Conv2DTranspose(filters=start_f, kernel_size=(3,3), strides=(1, 1), padding='same')(d_7)\r\n",
        "  d_9 = tf.keras.layers.ReLU()(d_8)\r\n",
        "  e_1 = tf.keras.layers.Add()([d_9,y_2])\r\n",
        "\r\n",
        "\r\n",
        "  start_f = start_f // 2\r\n",
        "  e_2 = tf.keras.layers.Conv2DTranspose(filters=start_f, kernel_size=(3,3), strides=(2, 2), padding='same')(e_1)\r\n",
        "  e_3 = tf.keras.layers.Conv2DTranspose(filters=start_f, kernel_size=(3,3), strides=(1, 1), padding='same')(e_2)\r\n",
        "  e_4 = tf.keras.layers.ReLU()(e_3)\r\n",
        "  e_6 = tf.keras.layers.Add()([e_4,x_7])\r\n",
        "\r\n",
        "  start_f = start_f // 2\r\n",
        "\r\n",
        "  e_8 = tf.keras.layers.Conv2DTranspose(filters=start_f, kernel_size=(3,3), strides=(2, 2), padding='same')(e_6)\r\n",
        "  e_9 = tf.keras.layers.Conv2DTranspose(filters=start_f, kernel_size=(3,3), strides=(1,1), padding='same')(e_8)\r\n",
        "  f_1 = tf.keras.layers.ReLU()(e_9)\r\n",
        "  f_2 = tf.keras.layers.Add()([f_1,x_3])\r\n",
        "  h = tf.keras.layers.Dropout(0.2, seed=SEED)(f_2)\r\n",
        "\r\n",
        "\r\n",
        "  \r\n",
        "  last = tf.keras.layers.Conv2D(filters=3,\r\n",
        "                                kernel_size=(1, 1),\r\n",
        "                                strides=(1, 1),\r\n",
        "                                padding='same',\r\n",
        "                                activation='softmax')(h)\r\n",
        "  model_1 = tf.keras.Model(inputs=inputs, outputs=last)\r\n",
        "  print(\"first model summary\")\r\n",
        "  model_1.summary()\r\n",
        "\r\n",
        "  return model_1\r\n",
        "\r\n",
        "  \r\n",
        "\r\n"
      ],
      "execution_count": 11,
      "outputs": []
    },
    {
      "cell_type": "code",
      "metadata": {
        "id": "cEEqnZQr0-jc",
        "colab": {
          "base_uri": "https://localhost:8080/"
        },
        "outputId": "8da718eb-8366-4af2-a820-eb4a65ce1f9e"
      },
      "source": [
        "model=create_model(start_f=42)"
      ],
      "execution_count": 12,
      "outputs": [
        {
          "output_type": "stream",
          "text": [
            "first model summary\n",
            "Model: \"functional_1\"\n",
            "__________________________________________________________________________________________________\n",
            "Layer (type)                    Output Shape         Param #     Connected to                     \n",
            "==================================================================================================\n",
            "input_1 (InputLayer)            [(None, 384, 512, 3) 0                                            \n",
            "__________________________________________________________________________________________________\n",
            "conv2d (Conv2D)                 (None, 384, 512, 42) 1176        input_1[0][0]                    \n",
            "__________________________________________________________________________________________________\n",
            "conv2d_1 (Conv2D)               (None, 384, 512, 42) 15918       conv2d[0][0]                     \n",
            "__________________________________________________________________________________________________\n",
            "batch_normalization (BatchNorma (None, 384, 512, 42) 168         conv2d_1[0][0]                   \n",
            "__________________________________________________________________________________________________\n",
            "activation (Activation)         (None, 384, 512, 42) 0           batch_normalization[0][0]        \n",
            "__________________________________________________________________________________________________\n",
            "max_pooling2d (MaxPooling2D)    (None, 192, 256, 42) 0           activation[0][0]                 \n",
            "__________________________________________________________________________________________________\n",
            "conv2d_2 (Conv2D)               (None, 192, 256, 84) 31836       max_pooling2d[0][0]              \n",
            "__________________________________________________________________________________________________\n",
            "conv2d_3 (Conv2D)               (None, 192, 256, 84) 63588       conv2d_2[0][0]                   \n",
            "__________________________________________________________________________________________________\n",
            "batch_normalization_1 (BatchNor (None, 192, 256, 84) 336         conv2d_3[0][0]                   \n",
            "__________________________________________________________________________________________________\n",
            "activation_1 (Activation)       (None, 192, 256, 84) 0           batch_normalization_1[0][0]      \n",
            "__________________________________________________________________________________________________\n",
            "max_pooling2d_1 (MaxPooling2D)  (None, 96, 128, 84)  0           activation_1[0][0]               \n",
            "__________________________________________________________________________________________________\n",
            "conv2d_4 (Conv2D)               (None, 96, 128, 168) 127176      max_pooling2d_1[0][0]            \n",
            "__________________________________________________________________________________________________\n",
            "conv2d_5 (Conv2D)               (None, 96, 128, 168) 254184      conv2d_4[0][0]                   \n",
            "__________________________________________________________________________________________________\n",
            "batch_normalization_2 (BatchNor (None, 96, 128, 168) 672         conv2d_5[0][0]                   \n",
            "__________________________________________________________________________________________________\n",
            "activation_2 (Activation)       (None, 96, 128, 168) 0           batch_normalization_2[0][0]      \n",
            "__________________________________________________________________________________________________\n",
            "max_pooling2d_2 (MaxPooling2D)  (None, 48, 64, 168)  0           activation_2[0][0]               \n",
            "__________________________________________________________________________________________________\n",
            "conv2d_6 (Conv2D)               (None, 48, 64, 336)  508368      max_pooling2d_2[0][0]            \n",
            "__________________________________________________________________________________________________\n",
            "conv2d_7 (Conv2D)               (None, 48, 64, 336)  1016400     conv2d_6[0][0]                   \n",
            "__________________________________________________________________________________________________\n",
            "batch_normalization_3 (BatchNor (None, 48, 64, 336)  1344        conv2d_7[0][0]                   \n",
            "__________________________________________________________________________________________________\n",
            "activation_3 (Activation)       (None, 48, 64, 336)  0           batch_normalization_3[0][0]      \n",
            "__________________________________________________________________________________________________\n",
            "max_pooling2d_3 (MaxPooling2D)  (None, 24, 32, 336)  0           activation_3[0][0]               \n",
            "__________________________________________________________________________________________________\n",
            "conv2d_8 (Conv2D)               (None, 24, 32, 672)  2032800     max_pooling2d_3[0][0]            \n",
            "__________________________________________________________________________________________________\n",
            "conv2d_9 (Conv2D)               (None, 24, 32, 672)  4064928     conv2d_8[0][0]                   \n",
            "__________________________________________________________________________________________________\n",
            "batch_normalization_4 (BatchNor (None, 24, 32, 672)  2688        conv2d_9[0][0]                   \n",
            "__________________________________________________________________________________________________\n",
            "activation_4 (Activation)       (None, 24, 32, 672)  0           batch_normalization_4[0][0]      \n",
            "__________________________________________________________________________________________________\n",
            "conv2d_10 (Conv2D)              (None, 24, 32, 672)  4064928     activation_4[0][0]               \n",
            "__________________________________________________________________________________________________\n",
            "conv2d_11 (Conv2D)              (None, 24, 32, 672)  4064928     conv2d_10[0][0]                  \n",
            "__________________________________________________________________________________________________\n",
            "batch_normalization_5 (BatchNor (None, 24, 32, 672)  2688        conv2d_11[0][0]                  \n",
            "__________________________________________________________________________________________________\n",
            "activation_5 (Activation)       (None, 24, 32, 672)  0           batch_normalization_5[0][0]      \n",
            "__________________________________________________________________________________________________\n",
            "conv2d_transpose (Conv2DTranspo (None, 48, 64, 336)  2032464     activation_5[0][0]               \n",
            "__________________________________________________________________________________________________\n",
            "conv2d_transpose_1 (Conv2DTrans (None, 48, 64, 336)  1016400     conv2d_transpose[0][0]           \n",
            "__________________________________________________________________________________________________\n",
            "re_lu (ReLU)                    (None, 48, 64, 336)  0           conv2d_transpose_1[0][0]         \n",
            "__________________________________________________________________________________________________\n",
            "add (Add)                       (None, 48, 64, 336)  0           re_lu[0][0]                      \n",
            "                                                                 activation_3[0][0]               \n",
            "__________________________________________________________________________________________________\n",
            "conv2d_transpose_2 (Conv2DTrans (None, 96, 128, 168) 508200      add[0][0]                        \n",
            "__________________________________________________________________________________________________\n",
            "conv2d_transpose_3 (Conv2DTrans (None, 96, 128, 168) 254184      conv2d_transpose_2[0][0]         \n",
            "__________________________________________________________________________________________________\n",
            "re_lu_1 (ReLU)                  (None, 96, 128, 168) 0           conv2d_transpose_3[0][0]         \n",
            "__________________________________________________________________________________________________\n",
            "add_1 (Add)                     (None, 96, 128, 168) 0           re_lu_1[0][0]                    \n",
            "                                                                 activation_2[0][0]               \n",
            "__________________________________________________________________________________________________\n",
            "conv2d_transpose_4 (Conv2DTrans (None, 192, 256, 84) 127092      add_1[0][0]                      \n",
            "__________________________________________________________________________________________________\n",
            "conv2d_transpose_5 (Conv2DTrans (None, 192, 256, 84) 63588       conv2d_transpose_4[0][0]         \n",
            "__________________________________________________________________________________________________\n",
            "re_lu_2 (ReLU)                  (None, 192, 256, 84) 0           conv2d_transpose_5[0][0]         \n",
            "__________________________________________________________________________________________________\n",
            "add_2 (Add)                     (None, 192, 256, 84) 0           re_lu_2[0][0]                    \n",
            "                                                                 activation_1[0][0]               \n",
            "__________________________________________________________________________________________________\n",
            "conv2d_transpose_6 (Conv2DTrans (None, 384, 512, 42) 31794       add_2[0][0]                      \n",
            "__________________________________________________________________________________________________\n",
            "conv2d_transpose_7 (Conv2DTrans (None, 384, 512, 42) 15918       conv2d_transpose_6[0][0]         \n",
            "__________________________________________________________________________________________________\n",
            "re_lu_3 (ReLU)                  (None, 384, 512, 42) 0           conv2d_transpose_7[0][0]         \n",
            "__________________________________________________________________________________________________\n",
            "add_3 (Add)                     (None, 384, 512, 42) 0           re_lu_3[0][0]                    \n",
            "                                                                 activation[0][0]                 \n",
            "__________________________________________________________________________________________________\n",
            "dropout (Dropout)               (None, 384, 512, 42) 0           add_3[0][0]                      \n",
            "__________________________________________________________________________________________________\n",
            "conv2d_12 (Conv2D)              (None, 384, 512, 3)  129         dropout[0][0]                    \n",
            "==================================================================================================\n",
            "Total params: 20,303,895\n",
            "Trainable params: 20,299,947\n",
            "Non-trainable params: 3,948\n",
            "__________________________________________________________________________________________________\n"
          ],
          "name": "stdout"
        }
      ]
    },
    {
      "cell_type": "code",
      "metadata": {
        "id": "9MlmYGVMnFJW"
      },
      "source": [
        "# Optimization params\n",
        "# -------------------\n",
        "\n",
        "# Loss\n",
        "# Sparse Categorical Crossentropy to use integers (mask) instead of one-hot encoded labels\n",
        "loss = tf.keras.losses.SparseCategoricalCrossentropy() \n",
        "# learning rate\n",
        "lr = 1e-4\n",
        "optimizer = tf.keras.optimizers.Adam(learning_rate=lr)\n",
        "# -------------------\n",
        "\n",
        "# Here we define the intersection over union for each class in the batch.\n",
        "# Then we compute the final iou as the mean over classes\n",
        "def meanIoU(y_true, y_pred):\n",
        "    # get predicted class from softmax\n",
        "    y_pred = tf.expand_dims(tf.argmax(y_pred, -1), -1)\n",
        "\n",
        "    per_class_iou = []\n",
        "\n",
        "    for i in range(1,3): # exclude the background class 0\n",
        "      # Get prediction and target related to only a single class (i)\n",
        "      class_pred = tf.cast(tf.where(y_pred == i, 1, 0), tf.float32)\n",
        "      class_true = tf.cast(tf.where(y_true == i, 1, 0), tf.float32)\n",
        "      intersection = tf.reduce_sum(class_true * class_pred)\n",
        "      union = tf.reduce_sum(class_true) + tf.reduce_sum(class_pred) - intersection\n",
        "    \n",
        "      iou = (intersection + 1e-7) / (union + 1e-7)\n",
        "      per_class_iou.append(iou)\n",
        "\n",
        "    return tf.reduce_mean(per_class_iou)\n",
        "\n",
        "# Validation metrics\n",
        "# ------------------\n",
        "metrics = ['accuracy', meanIoU]\n",
        "# ------------------\n",
        "\n",
        "# Compile Model\n",
        "model.compile(optimizer=optimizer, loss=loss, metrics=metrics)"
      ],
      "execution_count": 13,
      "outputs": []
    },
    {
      "cell_type": "code",
      "metadata": {
        "id": "3XiwaKZhnFJa",
        "scrolled": true,
        "colab": {
          "base_uri": "https://localhost:8080/"
        },
        "outputId": "a9f52e44-29ae-427c-fd70-bc15862586f9"
      },
      "source": [
        "import os\n",
        "from datetime import datetime\n",
        "\n",
        "cwd = os.getcwd()\n",
        "\n",
        "exps_dir = os.path.join(cwd, 'drive/My Drive/Keras4/', 'multiclass_segmentation_experiments')\n",
        "if not os.path.exists(exps_dir):\n",
        "    os.makedirs(exps_dir)\n",
        "\n",
        "now = datetime.now().strftime('%b%d_%H-%M-%S')\n",
        "\n",
        "model_name = 'CNN'\n",
        "\n",
        "exp_dir = os.path.join(exps_dir, model_name + '_' + str(now))\n",
        "if not os.path.exists(exp_dir):\n",
        "    os.makedirs(exp_dir)\n",
        "    \n",
        "callbacks = []\n",
        "\n",
        "# Model checkpoint\n",
        "# ----------------\n",
        "ckpt_dir = os.path.join(exp_dir, 'ckpts')\n",
        "if not os.path.exists(ckpt_dir):\n",
        "    os.makedirs(ckpt_dir)\n",
        "\n",
        "ckpt_callback = tf.keras.callbacks.ModelCheckpoint(filepath=os.path.join(ckpt_dir, 'cp_{epoch:02d}.ckpt'), \n",
        "                                                   save_weights_only=True) \n",
        "callbacks.append(ckpt_callback)\n",
        "\n",
        "# Visualize Learning on Tensorboard\n",
        "# ---------------------------------\n",
        "tb_dir = os.path.join(exp_dir, 'tb_logs')\n",
        "if not os.path.exists(tb_dir):\n",
        "    os.makedirs(tb_dir)\n",
        "    \n",
        "# By default shows losses and metrics for both training and validation\n",
        "tb_callback = tf.keras.callbacks.TensorBoard(log_dir=tb_dir,\n",
        "                                             profile_batch=0,\n",
        "                                             histogram_freq=0)  \n",
        "callbacks.append(tb_callback)\n",
        "\n",
        "# Early Stopping\n",
        "# --------------\n",
        "early_stop = True\n",
        "if early_stop:\n",
        "    es_callback = tf.keras.callbacks.EarlyStopping(monitor='val_loss', patience=4)\n",
        "    callbacks.append(es_callback)\n",
        "\n",
        "\n",
        "model.fit(x=train_dataset,\n",
        "          epochs=20,  #### set repeat in training dataset\n",
        "          steps_per_epoch=len(dataset),\n",
        "          validation_data=valid_dataset,\n",
        "          validation_steps=len(dataset_valid), \n",
        "          callbacks=callbacks)"
      ],
      "execution_count": 14,
      "outputs": [
        {
          "output_type": "stream",
          "text": [
            "Epoch 1/20\n",
            "72/72 [==============================] - 1929s 27s/step - loss: 0.2911 - accuracy: 0.8959 - meanIoU: 0.1983 - val_loss: 0.3408 - val_accuracy: 0.9065 - val_meanIoU: 0.1592\n",
            "Epoch 2/20\n",
            "72/72 [==============================] - 1783s 25s/step - loss: 0.1374 - accuracy: 0.9465 - meanIoU: 0.2846 - val_loss: 0.2414 - val_accuracy: 0.9212 - val_meanIoU: 0.2098\n",
            "Epoch 3/20\n",
            "72/72 [==============================] - 1794s 25s/step - loss: 0.1224 - accuracy: 0.9515 - meanIoU: 0.3164 - val_loss: 0.2586 - val_accuracy: 0.9194 - val_meanIoU: 0.1995\n",
            "Epoch 4/20\n",
            "72/72 [==============================] - 1842s 26s/step - loss: 0.1132 - accuracy: 0.9555 - meanIoU: 0.3575 - val_loss: 0.2228 - val_accuracy: 0.9310 - val_meanIoU: 0.2929\n",
            "Epoch 5/20\n",
            "72/72 [==============================] - 1888s 26s/step - loss: 0.1082 - accuracy: 0.9584 - meanIoU: 0.4077 - val_loss: 0.2303 - val_accuracy: 0.9312 - val_meanIoU: 0.2962\n",
            "Epoch 6/20\n",
            "72/72 [==============================] - 1891s 26s/step - loss: 0.0962 - accuracy: 0.9639 - meanIoU: 0.4892 - val_loss: 0.2085 - val_accuracy: 0.9370 - val_meanIoU: 0.3220\n",
            "Epoch 7/20\n",
            "72/72 [==============================] - 1933s 27s/step - loss: 0.0827 - accuracy: 0.9692 - meanIoU: 0.5876 - val_loss: 0.2447 - val_accuracy: 0.9349 - val_meanIoU: 0.3081\n",
            "Epoch 8/20\n",
            "72/72 [==============================] - 1956s 27s/step - loss: 0.0697 - accuracy: 0.9738 - meanIoU: 0.6559 - val_loss: 0.2672 - val_accuracy: 0.9352 - val_meanIoU: 0.3058\n",
            "Epoch 9/20\n",
            "72/72 [==============================] - 1856s 26s/step - loss: 0.0750 - accuracy: 0.9719 - meanIoU: 0.6221 - val_loss: 0.2201 - val_accuracy: 0.9443 - val_meanIoU: 0.3810\n",
            "Epoch 10/20\n",
            "72/72 [==============================] - 1898s 26s/step - loss: 0.0595 - accuracy: 0.9769 - meanIoU: 0.7107 - val_loss: 0.2719 - val_accuracy: 0.9356 - val_meanIoU: 0.3189\n"
          ],
          "name": "stdout"
        },
        {
          "output_type": "execute_result",
          "data": {
            "text/plain": [
              "<tensorflow.python.keras.callbacks.History at 0x7ff370b23e10>"
            ]
          },
          "metadata": {
            "tags": []
          },
          "execution_count": 14
        }
      ]
    },
    {
      "cell_type": "code",
      "metadata": {
        "id": "G87_8fHi_JuL"
      },
      "source": [
        "import time\r\n",
        "import matplotlib.pyplot as plt\r\n",
        "\r\n",
        "from PIL import Image\r\n",
        "\r\n",
        "%matplotlib inline\r\n",
        "\r\n",
        "iterator = iter(valid_dataset)"
      ],
      "execution_count": 15,
      "outputs": []
    },
    {
      "cell_type": "code",
      "metadata": {
        "id": "B-ZL1TAX_NOr",
        "colab": {
          "base_uri": "https://localhost:8080/",
          "height": 167
        },
        "outputId": "c09ed2c1-18c0-407f-cd06-3f394c9c1db1"
      },
      "source": [
        "fig, ax = plt.subplots(1, 3, figsize=(8, 8))\r\n",
        "fig.show()\r\n",
        "image, target = next(iterator)\r\n",
        "\r\n",
        "image = image[0] \r\n",
        "target = target[0, ..., 0]\r\n",
        "\r\n",
        "out_sigmoid = model.predict(x=tf.expand_dims(image, 0))\r\n",
        "\r\n",
        "\r\n",
        "predicted_class = tf.argmax(out_sigmoid, -1)\r\n",
        "\r\n",
        "out_sigmoid.shape\r\n",
        "\r\n",
        "predicted_class = predicted_class[0, ...]\r\n",
        "\r\n",
        "# Assign colors (just for visualization)\r\n",
        "target_img = np.zeros([target.shape[0], target.shape[1], 3])\r\n",
        "prediction_img = np.zeros([target.shape[0], target.shape[1], 3])\r\n",
        "\r\n",
        "target_img[np.where(target == 0)] = [0, 0, 0]\r\n",
        "for i in range(0, 3):\r\n",
        "  target_img[np.where(target == i)] = np.array(colors[i-1])[:3] * 255\r\n",
        "\r\n",
        "prediction_img[np.where(predicted_class == 0)] = [0, 0, 0]\r\n",
        "for i in range(0, 3):\r\n",
        "  prediction_img[np.where(predicted_class == i)] = np.array(colors[i-1])[:3] * 255\r\n",
        "\r\n",
        "ax[0].imshow(np.uint8(image))\r\n",
        "ax[1].imshow(np.uint8(target_img))\r\n",
        "ax[2].imshow(np.uint8(prediction_img))\r\n",
        "\r\n",
        "fig.canvas.draw()\r\n",
        "time.sleep(1)"
      ],
      "execution_count": 16,
      "outputs": [
        {
          "output_type": "execute_result",
          "data": {
            "text/plain": [
              "(1, 384, 512, 3)"
            ]
          },
          "metadata": {
            "tags": []
          },
          "execution_count": 16
        },
        {
          "output_type": "execute_result",
          "data": {
            "text/plain": [
              "<matplotlib.image.AxesImage at 0x7ff37ad98240>"
            ]
          },
          "metadata": {
            "tags": []
          },
          "execution_count": 16
        },
        {
          "output_type": "execute_result",
          "data": {
            "text/plain": [
              "<matplotlib.image.AxesImage at 0x7ff370645978>"
            ]
          },
          "metadata": {
            "tags": []
          },
          "execution_count": 16
        },
        {
          "output_type": "execute_result",
          "data": {
            "text/plain": [
              "<matplotlib.image.AxesImage at 0x7ff37ada52e8>"
            ]
          },
          "metadata": {
            "tags": []
          },
          "execution_count": 16
        },
        {
          "output_type": "display_data",
          "data": {
            "image/png": "[encoded data removed]",
            "text/plain": [
              "<Figure size 576x576 with 3 Axes>"
            ]
          },
          "metadata": {
            "tags": [],
            "needs_background": "light"
          }
        }
      ]
    },
    {
      "cell_type": "code",
      "metadata": {
        "id": "b4GQUUuiiKS3"
      },
      "source": [
        "from PIL import Image\r\n",
        "\r\n",
        "class CustomDataSol(tf.keras.utils.Sequence):\r\n",
        "\r\n",
        "  def __init__(self, dataset_dir, img_generator=None,\r\n",
        "               preprocessing_function=None, out_shape=[512, 384],projects=['Weedelec','Pead','Roseau','Bipbip'],plants=['Haricot','Mais']):\r\n",
        "\r\n",
        "    subset_filenames = []\r\n",
        "    subset_direc = []\r\n",
        "    name_project = []\r\n",
        "    self.is_haricot_or_mais = []\r\n",
        "    for project in projects :\r\n",
        "      for plant in plants :\r\n",
        "        path=os.path.join(dataset_dir,project,plant)\r\n",
        "        list = os.listdir(os.path.join(path,'Images')) # dir is your directory path\r\n",
        "        number_files = len(list)\r\n",
        "        for ii in range(0,number_files):\r\n",
        "          if plant == 'Haricot':\r\n",
        "            self.is_haricot_or_mais.append(1)\r\n",
        "          else:\r\n",
        "            self.is_haricot_or_mais.append(0)\r\n",
        "          subset_filenames.append(os.path.splitext(list[ii])[0])\r\n",
        "          subset_direc.append(path)\r\n",
        "          name_project.append(project)\r\n",
        "\r\n",
        "    self.dataset_dir = dataset_dir\r\n",
        "    self.projects = name_project\r\n",
        "    self.subset_direc = subset_direc\r\n",
        "    self.subset_filenames = subset_filenames\r\n",
        "    self.img_generator = img_generator\r\n",
        "    self.preprocessing_function = preprocessing_function\r\n",
        "    self.out_shape = out_shape\r\n",
        "\r\n",
        "  def get_plant_indexes(self):\r\n",
        "    return self.is_haricot_or_mais\r\n",
        "\r\n",
        "  def __len__(self):\r\n",
        "    return len(self.subset_filenames)\r\n",
        "\r\n",
        "  def __getitem__(self, index):\r\n",
        "    # Read Image\r\n",
        "    curr_filename = self.subset_filenames[index]\r\n",
        "    curr_dir = self.subset_direc[index]\r\n",
        "    curr_project = self.projects[index]\r\n",
        "    if curr_project == 'Roseau' :\r\n",
        "      img = Image.open(os.path.join(curr_dir, 'Images', curr_filename + '.png'))\r\n",
        "    else :\r\n",
        "      img = Image.open(os.path.join(curr_dir, 'Images', curr_filename + '.jpg'))\r\n",
        "\r\n",
        "    # Resize image \r\n",
        "    img = img.resize(self.out_shape)\r\n",
        "    img_arr = np.array(img)\r\n",
        "    \r\n",
        "    if self.preprocessing_function is not None:\r\n",
        "        img_arr = self.preprocessing_function(img_arr)\r\n",
        "\r\n",
        "    return img_arr\r\n",
        "def rle_encode(img):\r\n",
        "    '''\r\n",
        "    img: numpy array, 1 - foreground, 0 - background\r\n",
        "    Returns run length as string formatted\r\n",
        "    '''\r\n",
        "    pixels = img.flatten()\r\n",
        "    pixels = np.concatenate([[0], pixels, [0]])\r\n",
        "    runs = np.where(pixels[1:] != pixels[:-1])[0] + 1\r\n",
        "    runs[1::2] -= runs[::2]\r\n",
        "    return ' '.join(str(x) for x in runs)"
      ],
      "execution_count": 28,
      "outputs": []
    },
    {
      "cell_type": "code",
      "metadata": {
        "id": "JR_6gW8wiZo0",
        "colab": {
          "base_uri": "https://localhost:8080/",
          "height": 231
        },
        "outputId": "45e14208-85b6-4141-c9d9-a3c62c36b5d0"
      },
      "source": [
        "test_set=CustomDataSol('/content/drive/My Drive/Development_Dataset/Test_Dev/', \r\n",
        "                        img_generator=img_data_gen,\r\n",
        "                        projects=['Weedelec','Pead','Roseau','Bipbip'],\r\n",
        "                        plants=['Haricot', 'Mais'])\r\n",
        "test_dataset = tf.data.Dataset.from_generator(lambda: test_set,\r\n",
        "                                               output_types= tf.float32,\r\n",
        "                                               output_shapes=[img_h, img_w, 3])\r\n",
        "\r\n",
        "test_dataset = test_dataset.batch(1)\r\n",
        "iterator = iter(test_dataset)\r\n",
        "test_set.__len__()\r\n",
        "    \r\n",
        "submission_dict = {}\r\n",
        "for index in range(0,test_set.__len__()):\r\n",
        "  image = next(iterator)\r\n",
        "  img_name = os.path.splitext(test_set.subset_filenames[index])[0]\r\n",
        "  submission_dict[img_name] = {}\r\n",
        "      \r\n",
        "\r\n",
        "# load mask <- HERE you should have your segmentation model instead\r\n",
        "  mask_arr =  model.predict(image)\r\n",
        "  mask_arr = tf.compat.v1.image.resize_nearest_neighbor(mask_arr, size=(1536, 2048))\r\n",
        "  predicted_class = tf.argmax(mask_arr, -1)\r\n",
        "  predicted_class = predicted_class[0, ...]\r\n",
        "      \r\n",
        "  prediction_img = np.zeros([1536, 2048, 3])\r\n",
        "  prediction_img[np.where(predicted_class == 0)] = 0\r\n",
        "  for i in range(1, 3):\r\n",
        "    prediction_img[np.where(predicted_class == i)] = i\r\n",
        "  submission_dict[img_name]['shape'] = [mask_arr.numpy().shape[1], mask_arr.numpy().shape[2]]\r\n",
        "  submission_dict[img_name]['team'] = test_set.projects[index]\r\n",
        "  if test_set.get_plant_indexes()[index] == 0:\r\n",
        "    submission_dict[img_name]['crop'] = 'Mais'\r\n",
        "  else:\r\n",
        "    submission_dict[img_name]['crop'] = 'Haricot'\r\n",
        "  submission_dict[img_name]['segmentation'] = {}\r\n",
        "\r\n",
        "    \r\n",
        "    \r\n",
        "\r\n",
        "  # RLE encoding\r\n",
        "  # crop\r\n",
        "  rle_encoded_crop = rle_encode(prediction_img == 1)\r\n",
        "  # weed\r\n",
        "  rle_encoded_weed = rle_encode(prediction_img == 2)\r\n",
        "\r\n",
        "  submission_dict[img_name]['segmentation']['crop'] = rle_encoded_crop\r\n",
        "  submission_dict[img_name]['segmentation']['weed'] = rle_encoded_weed\r\n",
        "\r\n",
        "\r\n",
        "\r\n",
        "  # Please notice that in this example we have a single prediction.\r\n",
        "  # For the competition you have to provide segmentation for each of\r\n",
        "  # the test images.\r\n",
        "\r\n",
        "# Finally, save the results into the submission.json file\r\n",
        "import json\r\n",
        "with open('/content/drive/My Drive/submission.json', 'w') as file:\r\n",
        "        json.dump(submission_dict, file)"
      ],
      "execution_count": 1,
      "outputs": [
        {
          "output_type": "error",
          "ename": "NameError",
          "evalue": "ignored",
          "traceback": [
            "\u001b[0;31m---------------------------------------------------------------------------\u001b[0m",
            "\u001b[0;31mNameError\u001b[0m                                 Traceback (most recent call last)",
            "\u001b[0;32m<ipython-input-1-a402865000a5>\u001b[0m in \u001b[0;36m<module>\u001b[0;34m()\u001b[0m\n\u001b[0;32m----> 1\u001b[0;31m test_set=CustomDataSol('/content/drive/My Drive/Development_Dataset/Test_Dev/', \n\u001b[0m\u001b[1;32m      2\u001b[0m                         \u001b[0mimg_generator\u001b[0m\u001b[0;34m=\u001b[0m\u001b[0mimg_data_gen\u001b[0m\u001b[0;34m,\u001b[0m\u001b[0;34m\u001b[0m\u001b[0;34m\u001b[0m\u001b[0m\n\u001b[1;32m      3\u001b[0m                         \u001b[0mprojects\u001b[0m\u001b[0;34m=\u001b[0m\u001b[0;34m[\u001b[0m\u001b[0;34m'Weedelec'\u001b[0m\u001b[0;34m,\u001b[0m\u001b[0;34m'Pead'\u001b[0m\u001b[0;34m,\u001b[0m\u001b[0;34m'Roseau'\u001b[0m\u001b[0;34m,\u001b[0m\u001b[0;34m'Bipbip'\u001b[0m\u001b[0;34m]\u001b[0m\u001b[0;34m,\u001b[0m\u001b[0;34m\u001b[0m\u001b[0;34m\u001b[0m\u001b[0m\n\u001b[1;32m      4\u001b[0m                         plants=['Haricot', 'Mais'])\n\u001b[1;32m      5\u001b[0m test_dataset = tf.data.Dataset.from_generator(lambda: test_set,\n",
            "\u001b[0;31mNameError\u001b[0m: name 'CustomDataSol' is not defined"
          ]
        }
      ]
    },
    {
      "cell_type": "code",
      "metadata": {
        "id": "768uq3QpHBdN",
        "colab": {
          "base_uri": "https://localhost:8080/",
          "height": 17
        },
        "outputId": "06af452e-72a4-400b-ded6-ae44d9205fa4"
      },
      "source": [
        "from google.colab import files\r\n",
        "files.download(\"/content/drive/MyDrive/submission.json\")"
      ],
      "execution_count": 27,
      "outputs": [
        {
          "output_type": "display_data",
          "data": {
            "application/javascript": [
              "\n",
              "    async function download(id, filename, size) {\n",
              "      if (!google.colab.kernel.accessAllowed) {\n",
              "        return;\n",
              "      }\n",
              "      const div = document.createElement('div');\n",
              "      const label = document.createElement('label');\n",
              "      label.textContent = `Downloading \"${filename}\": `;\n",
              "      div.appendChild(label);\n",
              "      const progress = document.createElement('progress');\n",
              "      progress.max = size;\n",
              "      div.appendChild(progress);\n",
              "      document.body.appendChild(div);\n",
              "\n",
              "      const buffers = [];\n",
              "      let downloaded = 0;\n",
              "\n",
              "      const channel = await google.colab.kernel.comms.open(id);\n",
              "      // Send a message to notify the kernel that we're ready.\n",
              "      channel.send({})\n",
              "\n",
              "      for await (const message of channel.messages) {\n",
              "        // Send a message to notify the kernel that we're ready.\n",
              "        channel.send({})\n",
              "        if (message.buffers) {\n",
              "          for (const buffer of message.buffers) {\n",
              "            buffers.push(buffer);\n",
              "            downloaded += buffer.byteLength;\n",
              "            progress.value = downloaded;\n",
              "          }\n",
              "        }\n",
              "      }\n",
              "      const blob = new Blob(buffers, {type: 'application/binary'});\n",
              "      const a = document.createElement('a');\n",
              "      a.href = window.URL.createObjectURL(blob);\n",
              "      a.download = filename;\n",
              "      div.appendChild(a);\n",
              "      a.click();\n",
              "      div.remove();\n",
              "    }\n",
              "  "
            ],
            "text/plain": [
              "<IPython.core.display.Javascript object>"
            ]
          },
          "metadata": {
            "tags": []
          }
        },
        {
          "output_type": "display_data",
          "data": {
            "application/javascript": [
              "download(\"download_e78cec19-806b-46a7-9d06-9dee03c9b372\", \"submission.json\", 1286230)"
            ],
            "text/plain": [
              "<IPython.core.display.Javascript object>"
            ]
          },
          "metadata": {
            "tags": []
          }
        }
      ]
    }
  ]
}