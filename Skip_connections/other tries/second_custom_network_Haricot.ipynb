{
  "nbformat": 4,
  "nbformat_minor": 0,
  "metadata": {
    "accelerator": "GPU",
    "colab": {
      "name": "Copia_di_second_custom_network.ipynb",
      "provenance": [],
      "collapsed_sections": []
    },
    "kernelspec": {
      "display_name": "Python 3",
      "name": "python3"
    }
  },
  "cells": [
    {
      "cell_type": "code",
      "metadata": {
        "id": "1dLtoPlwrM6I"
      },
      "source": [
        "from IPython.core.interactiveshell import InteractiveShell\r\n",
        "InteractiveShell.ast_node_interactivity = \"all\"\r\n",
        "from keras.callbacks import EarlyStopping, ModelCheckpoint"
      ],
      "execution_count": 1,
      "outputs": []
    },
    {
      "cell_type": "code",
      "metadata": {
        "id": "z-dut310riRy"
      },
      "source": [
        "import os\r\n",
        "\r\n",
        "import tensorflow as tf\r\n",
        "import numpy as np\r\n",
        "\r\n",
        "# Set the seed for random operations. \r\n",
        "# This let our experiments to be reproducible. \r\n",
        "SEED = 1234\r\n",
        "tf.random.set_seed(SEED)"
      ],
      "execution_count": 2,
      "outputs": []
    },
    {
      "cell_type": "code",
      "metadata": {
        "colab": {
          "base_uri": "https://localhost:8080/"
        },
        "id": "bQoHXl54rkOZ",
        "outputId": "3d6939b3-975f-4efd-9929-cb05ebe6e8c6"
      },
      "source": [
        "cwd = os.getcwd()\r\n",
        "from google.colab import drive\r\n",
        "drive.mount('/content/drive')"
      ],
      "execution_count": 3,
      "outputs": [
        {
          "output_type": "stream",
          "text": [
            "Mounted at /content/drive\n"
          ],
          "name": "stdout"
        }
      ]
    },
    {
      "cell_type": "code",
      "metadata": {
        "id": "cUYGEf-irtZB"
      },
      "source": [
        "# ImageDataGenerator\r\n",
        "# ------------------\r\n",
        "\r\n",
        "from tensorflow.keras.preprocessing.image import ImageDataGenerator\r\n",
        "\r\n",
        "apply_data_augmentation = True\r\n",
        "\r\n",
        "# Create training ImageDataGenerator object\r\n",
        "# We need two different generators for images and corresponding masks\r\n",
        "if apply_data_augmentation:\r\n",
        "    img_data_gen = ImageDataGenerator(rotation_range=90,\r\n",
        "                                      width_shift_range=30,\r\n",
        "                                      height_shift_range=30,\r\n",
        "                                      zoom_range=0.4,\r\n",
        "                                      horizontal_flip=True,\r\n",
        "                                      vertical_flip=True,\r\n",
        "                                      fill_mode='reflect',)\r\n",
        "    mask_data_gen = ImageDataGenerator(rotation_range=90,\r\n",
        "                                       width_shift_range=30,\r\n",
        "                                       height_shift_range=30,\r\n",
        "                                       zoom_range=0.4,\r\n",
        "                                       horizontal_flip=True,\r\n",
        "                                       vertical_flip=True,\r\n",
        "                                       fill_mode='reflect')"
      ],
      "execution_count": 4,
      "outputs": []
    },
    {
      "cell_type": "code",
      "metadata": {
        "id": "BFHux1DjsHwB"
      },
      "source": [
        "from PIL import Image\r\n",
        "\r\n",
        "class CustomDataset(tf.keras.utils.Sequence):\r\n",
        "\r\n",
        "  \"\"\"\r\n",
        "    CustomDataset inheriting from tf.keras.utils.Sequence.\r\n",
        "\r\n",
        "    3 main methods:\r\n",
        "      - __init__: save dataset params like directory, filenames..\r\n",
        "      - __len__: return the total number of samples in the dataset\r\n",
        "      - __getitem__: return a sample from the dataset\r\n",
        "\r\n",
        "    Note: \r\n",
        "      - the custom dataset return a single sample from the dataset. Then, we use \r\n",
        "        a tf.data.Dataset object to group samples into batches.\r\n",
        "      - in this case we have a different structure of the dataset in memory. \r\n",
        "        We have all the images in the same folder and the training and validation splits\r\n",
        "        are defined in text files.\r\n",
        "\r\n",
        "  \"\"\"\r\n",
        "\r\n",
        "  def __init__(self, dataset_dir, which_subset, img_generator=None, mask_generator=None, \r\n",
        "               preprocessing_function=None, out_shape=[512, 384],validation_part=0.2,projects=['Weedelec','Pead','Roseau','Bipbip'],plants=['Haricot','Mais']):\r\n",
        "    self.png_or_jpg = []\r\n",
        "    subset_filenames = []\r\n",
        "    subset_direc = []\r\n",
        "    for project in projects :\r\n",
        "      for plant in plants :\r\n",
        "        path=os.path.join(dataset_dir,project,plant)\r\n",
        "        list_ = os.listdir(os.path.join(path,'Images')) \r\n",
        "        number_files = len(list_)\r\n",
        "\r\n",
        "        training_num_max = int(number_files - int(number_files *  validation_part))\r\n",
        "        if which_subset == 'training':\r\n",
        "          number_max = training_num_max\r\n",
        "          for ii in range(0,number_max):\r\n",
        "            subset_filenames.append(os.path.splitext(list_[ii])[0])\r\n",
        "            subset_direc.append(path)\r\n",
        "            if project!='Roseau':\r\n",
        "              self.png_or_jpg.append(1)\r\n",
        "            else:\r\n",
        "              self.png_or_jpg.append(0)\r\n",
        "        elif which_subset == 'validation':\r\n",
        "          number_max = number_files - training_num_max\r\n",
        "          for ii in range(number_files - 1, number_files - number_max, -1):\r\n",
        "            subset_filenames.append(os.path.splitext(list_[ii])[0])\r\n",
        "            subset_direc.append(path)\r\n",
        "            if project!='Roseau':\r\n",
        "              self.png_or_jpg.append(1)\r\n",
        "            else:\r\n",
        "              self.png_or_jpg.append(0)\r\n",
        "\r\n",
        "\r\n",
        "    self.which_subset = which_subset\r\n",
        "    self.dataset_dir = dataset_dir\r\n",
        "    self.subset_direc = subset_direc\r\n",
        "    self.subset_filenames = subset_filenames\r\n",
        "    self.img_generator = img_generator\r\n",
        "    self.mask_generator = mask_generator\r\n",
        "    self.preprocessing_function = preprocessing_function\r\n",
        "    self.out_shape = out_shape\r\n",
        "\r\n",
        "  def __len__(self):\r\n",
        "    return len(self.subset_filenames)\r\n",
        "\r\n",
        "  def read_rgb_mask(img_path):\r\n",
        "    '''\r\n",
        "    img_path: path to the mask file\r\n",
        "    Returns the numpy array containing target values\r\n",
        "    '''\r\n",
        "\r\n",
        "    mask_img = Image.open(img_path)\r\n",
        "    mask_arr = np.array(mask_img)\r\n",
        "\r\n",
        "    new_mask_arr = np.zeros(mask_arr.shape[:2], dtype=mask_arr.dtype)\r\n",
        "\r\n",
        "    # Use RGB dictionary in 'RGBtoTarget.txt' to convert RGB to target\r\n",
        "    new_mask_arr[np.where(np.all(mask_arr == [216, 124, 18], axis=-1))] = 0\r\n",
        "    new_mask_arr[np.where(np.all(mask_arr == [255, 255, 255], axis=-1))] = 1\r\n",
        "    new_mask_arr[np.where(np.all(mask_arr == [216, 67, 82], axis=-1))] = 2\r\n",
        "\r\n",
        "    return new_mask_arr\r\n",
        "  \r\n",
        "  def __getitem__(self, index):\r\n",
        "    # Read Image\r\n",
        "    curr_filename = self.subset_filenames[index]\r\n",
        "    curr_dir = self.subset_direc[index]\r\n",
        "    if self.png_or_jpg[index] != 0:\r\n",
        "      img = Image.open(os.path.join(curr_dir, 'Images', curr_filename + '.jpg'))\r\n",
        "    else:\r\n",
        "      img = Image.open(os.path.join(curr_dir, 'Images', curr_filename + '.png'))\r\n",
        "    mask = Image.open(os.path.join(curr_dir, 'Masks', curr_filename + '.png'))\r\n",
        "\r\n",
        "    # Resize image \r\n",
        "    img = img.resize(self.out_shape)\r\n",
        "    mask = mask.resize(self.out_shape, resample=Image.NEAREST)\r\n",
        "\r\n",
        "    mask_arr = np.array(mask)\r\n",
        "    new_mask_arr = np.zeros(mask_arr.shape[:2], dtype=mask_arr.dtype)\r\n",
        "\r\n",
        "    # Use RGB dictionary in 'RGBtoTarget.txt' to convert RGB to target\r\n",
        "    new_mask_arr[np.where(np.all(mask_arr == [216, 124, 18], axis=-1))] = 0\r\n",
        "    new_mask_arr[np.where(np.all(mask_arr == [255, 255, 255], axis=-1))] = 1\r\n",
        "    new_mask_arr[np.where(np.all(mask_arr == [216, 67, 82], axis=-1))] = 2\r\n",
        "    \r\n",
        "    img_arr = np.array(img)\r\n",
        "    mask_arr = new_mask_arr\r\n",
        "\r\n",
        "\r\n",
        "    mask_arr = np.expand_dims(mask_arr, -1)\r\n",
        "\r\n",
        "    if self.which_subset == 'training':\r\n",
        "      if self.img_generator is not None and self.mask_generator is not None:\r\n",
        "        \r\n",
        "        img_t = self.img_generator.get_random_transform(img_arr.shape, seed=SEED)\r\n",
        "        mask_t = self.mask_generator.get_random_transform(mask_arr.shape, seed=SEED)\r\n",
        "        img_arr = self.img_generator.apply_transform(img_arr, img_t)\r\n",
        "        \r\n",
        "        out_mask = np.zeros_like(mask_arr)\r\n",
        "        for c in np.unique(mask_arr):\r\n",
        "          if c > 0:\r\n",
        "            curr_class_arr = np.float32(mask_arr == c)\r\n",
        "            curr_class_arr = self.mask_generator.apply_transform(curr_class_arr, mask_t)\r\n",
        "            # from [0, 1] to {0, 1}\r\n",
        "            curr_class_arr = np.uint8(curr_class_arr)\r\n",
        "            # recover original class\r\n",
        "            curr_class_arr = curr_class_arr * c \r\n",
        "            out_mask += curr_class_arr\r\n",
        "    else:\r\n",
        "      out_mask = mask_arr\r\n",
        "    \r\n",
        "    if self.preprocessing_function is not None:\r\n",
        "        img_arr = self.preprocessing_function(img_arr)\r\n",
        "\r\n",
        "    return img_arr, np.float32(out_mask)\r\n"
      ],
      "execution_count": 5,
      "outputs": []
    },
    {
      "cell_type": "code",
      "metadata": {
        "id": "0Hg9_If5tW2L"
      },
      "source": [
        "img_h = 384\r\n",
        "img_w = 512\r\n",
        "dataset = CustomDataset('/content/drive/MyDrive/Development_Dataset/Training/', 'training', \r\n",
        "                        img_generator=img_data_gen, mask_generator=mask_data_gen,\r\n",
        "                        preprocessing_function=None,validation_part=0.2,projects=['Weedelec','Pead','Roseau','Bipbip'],plants=['Haricot'])\r\n",
        "dataset_valid = CustomDataset('/content/drive/MyDrive/Development_Dataset/Training/', 'validation', \r\n",
        "                              preprocessing_function=None,validation_part=0.2,projects=['Weedelec','Pead','Roseau','Bipbip'],plants=['Haricot'])"
      ],
      "execution_count": 6,
      "outputs": []
    },
    {
      "cell_type": "code",
      "metadata": {
        "id": "HL2m0u6DssGh"
      },
      "source": [
        "img_h = 384\r\n",
        "img_w = 512\r\n",
        "\r\n",
        "train_dataset = tf.data.Dataset.from_generator(lambda: dataset,\r\n",
        "                                               output_types=(tf.float32, tf.float32),\r\n",
        "                                               output_shapes=([img_h, img_w, 3], [img_h, img_w, 1]))\r\n",
        "bs = 15\r\n",
        "train_dataset = train_dataset.batch(bs)\r\n",
        "\r\n",
        "train_dataset = train_dataset.repeat()\r\n",
        "\r\n",
        "valid_dataset = tf.data.Dataset.from_generator(lambda: dataset_valid,\r\n",
        "                                               output_types=(tf.float32, tf.float32),\r\n",
        "                                               output_shapes=([img_h, img_w, 3], [img_h, img_w,1]))\r\n",
        "valid_dataset = valid_dataset.batch(bs)\r\n",
        "\r\n",
        "valid_dataset = valid_dataset.repeat()"
      ],
      "execution_count": 7,
      "outputs": []
    },
    {
      "cell_type": "code",
      "metadata": {
        "colab": {
          "base_uri": "https://localhost:8080/",
          "height": 200
        },
        "id": "3OIO2vyqtQQ5",
        "outputId": "7e73cd52-4cc0-4daf-a175-2c4536dd03c8"
      },
      "source": [
        "# -------------------------\r\n",
        "import time\r\n",
        "from matplotlib import cm\r\n",
        "import matplotlib.pyplot as plt\r\n",
        "\r\n",
        "%matplotlib inline\r\n",
        "\r\n",
        "# Assign a color to each class\r\n",
        "evenly_spaced_interval = np.linspace(0, 1, 3)\r\n",
        "colors = [cm.rainbow(x) for x in evenly_spaced_interval]\r\n",
        "\r\n",
        "iterator = iter(valid_dataset)\r\n",
        "\r\n",
        "\r\n",
        "\r\n",
        "#-------------\r\n",
        "#Visualize the images and the masks\r\n",
        "#--------------\r\n",
        "fig, ax = plt.subplots(1, 2)\r\n",
        "\r\n",
        "augmented_img, target = next(iterator)\r\n",
        "augmented_img = augmented_img[0]   # First element\r\n",
        "augmented_img = augmented_img  # denormalize\r\n",
        "\r\n",
        "target = np.array(target[0, ..., 0])   # First element (squeezing channel dimension)\r\n",
        "\r\n",
        "print(np.unique(target))\r\n",
        "\r\n",
        "target_img = np.zeros([target.shape[0], target.shape[1], 3])\r\n",
        "\r\n",
        "target_img[np.where(target == 0)] = [0, 0, 0]\r\n",
        "for i in range(1, 3):\r\n",
        "  target_img[np.where(target == i)] = np.array(colors[i-1])[:3] * 255\r\n",
        "\r\n",
        "ax[0].imshow(np.uint8(augmented_img))\r\n",
        "ax[1].imshow(np.uint8(target_img))\r\n",
        "\r\n",
        "plt.show()"
      ],
      "execution_count": 8,
      "outputs": [
        {
          "output_type": "stream",
          "text": [
            "[0. 1. 2.]\n"
          ],
          "name": "stdout"
        },
        {
          "output_type": "execute_result",
          "data": {
            "text/plain": [
              "<matplotlib.image.AxesImage at 0x7f59204cada0>"
            ]
          },
          "metadata": {
            "tags": []
          },
          "execution_count": 8
        },
        {
          "output_type": "execute_result",
          "data": {
            "text/plain": [
              "<matplotlib.image.AxesImage at 0x7f59204c6b70>"
            ]
          },
          "metadata": {
            "tags": []
          },
          "execution_count": 8
        },
        {
          "output_type": "display_data",
          "data": {
            "image/png": "[encoded data removed]",
            "text/plain": [
              "<Figure size 432x288 with 2 Axes>"
            ]
          },
          "metadata": {
            "tags": [],
            "needs_background": "light"
          }
        }
      ]
    },
    {
      "cell_type": "code",
      "metadata": {
        "id": "7oZDaGX-yRx2"
      },
      "source": [
        "\r\n",
        "def create_model(start_f):\r\n",
        "  input_shape = [img_h, img_w, 3]\r\n",
        "  inputs = tf.keras.Input(shape=(img_h, img_w, 3))\r\n",
        "  x_1 = tf.keras.layers.Conv2D(filters = start_f, \r\n",
        "                                kernel_size = (3,3),\r\n",
        "                                strides=(1, 1),\r\n",
        "                                padding='same')(inputs)\r\n",
        "  input_shape = None\r\n",
        "\r\n",
        "\r\n",
        "  start_f *= 2\r\n",
        "  x_2 = tf.keras.layers.BatchNormalization(axis=-1)(x_1)\r\n",
        "  x_3  = tf.keras.layers.Activation('relu')(x_2)\r\n",
        "  x_4 = tf.keras.layers.MaxPool2D(pool_size=(2, 2))(x_3)\r\n",
        "  x_5 = tf.keras.layers.Conv2D(filters=start_f, \r\n",
        "                      kernel_size=(3, 3),\r\n",
        "                      strides = (1,1),\r\n",
        "                      padding = 'same')(x_4)\r\n",
        "  x_6 = tf.keras.layers.BatchNormalization(axis=-1)(x_5)\r\n",
        "  x_7 = tf.keras.layers.Activation('relu')(x_6)\r\n",
        "  x_8 = tf.keras.layers.MaxPool2D(pool_size=(2, 2))(x_7)\r\n",
        "  drop_out_1 = tf.keras.layers.Dropout(0.2, seed=SEED)(x_8)\r\n",
        "\r\n",
        "\r\n",
        "\r\n",
        "  start_f *= 2\r\n",
        "\r\n",
        "  x_9 = tf.keras.layers.Conv2D(filters=start_f, \r\n",
        "                      kernel_size=(3, 3),\r\n",
        "                      strides = (1,1),\r\n",
        "                      padding = 'same')(drop_out_1)\r\n",
        "  y_1 = tf.keras.layers.BatchNormalization(axis=-1)(x_9)\r\n",
        "  y_2 = tf.keras.layers.Activation('relu')(y_1)\r\n",
        "  y_3 = tf.keras.layers.MaxPool2D(pool_size=(2, 2))(y_2)\r\n",
        "  drop_out_2 = tf.keras.layers.Dropout(0.2, seed=SEED)(y_3)\r\n",
        "\r\n",
        "\r\n",
        "\r\n",
        "\r\n",
        "  start_f *= 2\r\n",
        "\r\n",
        "  y_4 = tf.keras.layers.Conv2D(filters=start_f, \r\n",
        "                      kernel_size=(3, 3),\r\n",
        "                      strides = (1,1),\r\n",
        "                      padding = 'same')(drop_out_2)\r\n",
        "  y_5 = tf.keras.layers.BatchNormalization(axis=-1)(y_4)\r\n",
        "  y_6 = tf.keras.layers.Activation('relu')(y_5)\r\n",
        "  y_7 = tf.keras.layers.MaxPool2D(pool_size=(2, 2))(y_6)\r\n",
        "  drop_out_3 = tf.keras.layers.Dropout(0.2, seed=SEED)(y_7)\r\n",
        "\r\n",
        "\r\n",
        "\r\n",
        "\r\n",
        "\r\n",
        "  start_f *= 2\r\n",
        "\r\n",
        "  y_8 = tf.keras.layers.Conv2D(filters=start_f, \r\n",
        "                      kernel_size=(3, 3),\r\n",
        "                      strides = (1,1),\r\n",
        "                      padding = 'same')(drop_out_3)\r\n",
        "  y_9 = tf.keras.layers.BatchNormalization(axis=-1)(y_8)\r\n",
        "  z_1 = tf.keras.layers.Activation('relu')(y_9)\r\n",
        "\r\n",
        "\r\n",
        "  #DECODER\r\n",
        "  start_f = start_f // 2\r\n",
        "\r\n",
        "  d_2 = tf.keras.layers.Conv2DTranspose(filters=start_f, kernel_size=(3,3), strides=(2, 2), padding='same')(z_1)\r\n",
        "  d_4 = tf.keras.layers.ReLU()(d_2)\r\n",
        "  d_5  = tf.keras.layers.Dropout(0.2, seed=SEED)(d_4)\r\n",
        "  d_6 = tf.keras.layers.Add()([d_5,y_6])\r\n",
        "\r\n",
        "  start_f = start_f // 2\r\n",
        "\r\n",
        "  d_7 = tf.keras.layers.Conv2DTranspose(filters=start_f, kernel_size=(3,3), strides=(2, 2), padding='same')(d_6)\r\n",
        "  d_8 = tf.keras.layers.ReLU()(d_7)\r\n",
        "  d_9  = tf.keras.layers.Dropout(0.2, seed=SEED)(d_8)\r\n",
        "  e_1 = tf.keras.layers.Add()([d_9,y_2])\r\n",
        "\r\n",
        "\r\n",
        "  start_f = start_f // 2\r\n",
        "  e_2 = tf.keras.layers.Conv2DTranspose(filters=start_f, kernel_size=(3,3), strides=(2, 2), padding='same')(e_1)\r\n",
        "  e_4 = tf.keras.layers.ReLU()(e_2)\r\n",
        "  e_5  = tf.keras.layers.Dropout(0.2, seed=SEED)(e_4)\r\n",
        "  e_6 = tf.keras.layers.Add()([e_5,x_7])\r\n",
        "\r\n",
        "  start_f = start_f // 2\r\n",
        "\r\n",
        "  e_8 = tf.keras.layers.Conv2DTranspose(filters=start_f, kernel_size=(3,3), strides=(2, 2), padding='same')(e_6)\r\n",
        "  e_9 = tf.keras.layers.ReLU()(e_8)\r\n",
        "  f_1  = tf.keras.layers.Dropout(0.2, seed=SEED)(e_9)\r\n",
        "  f_2 = tf.keras.layers.Add()([f_1,x_3])\r\n",
        "\r\n",
        "\r\n",
        "  \r\n",
        "  last = tf.keras.layers.Conv2D(filters=3,\r\n",
        "                                kernel_size=(1, 1),\r\n",
        "                                strides=(1, 1),\r\n",
        "                                padding='same',\r\n",
        "                                activation='softmax')(f_2)\r\n",
        "  model_1 = tf.keras.Model(inputs=inputs, outputs=last)\r\n",
        "  print(\"first model summary\")\r\n",
        "  model_1.summary()\r\n",
        "\r\n",
        "  return model_1\r\n",
        "\r\n",
        "  \r\n",
        "\r\n"
      ],
      "execution_count": 9,
      "outputs": []
    },
    {
      "cell_type": "code",
      "metadata": {
        "colab": {
          "base_uri": "https://localhost:8080/"
        },
        "id": "cEEqnZQr0-jc",
        "outputId": "84f03bae-7a82-4560-f3c7-ef73c673c598"
      },
      "source": [
        "model=create_model(start_f=80)"
      ],
      "execution_count": 10,
      "outputs": [
        {
          "output_type": "stream",
          "text": [
            "first model summary\n",
            "Model: \"model\"\n",
            "__________________________________________________________________________________________________\n",
            "Layer (type)                    Output Shape         Param #     Connected to                     \n",
            "==================================================================================================\n",
            "input_1 (InputLayer)            [(None, 384, 512, 3) 0                                            \n",
            "__________________________________________________________________________________________________\n",
            "conv2d (Conv2D)                 (None, 384, 512, 80) 2240        input_1[0][0]                    \n",
            "__________________________________________________________________________________________________\n",
            "batch_normalization (BatchNorma (None, 384, 512, 80) 320         conv2d[0][0]                     \n",
            "__________________________________________________________________________________________________\n",
            "activation (Activation)         (None, 384, 512, 80) 0           batch_normalization[0][0]        \n",
            "__________________________________________________________________________________________________\n",
            "max_pooling2d (MaxPooling2D)    (None, 192, 256, 80) 0           activation[0][0]                 \n",
            "__________________________________________________________________________________________________\n",
            "conv2d_1 (Conv2D)               (None, 192, 256, 160 115360      max_pooling2d[0][0]              \n",
            "__________________________________________________________________________________________________\n",
            "batch_normalization_1 (BatchNor (None, 192, 256, 160 640         conv2d_1[0][0]                   \n",
            "__________________________________________________________________________________________________\n",
            "activation_1 (Activation)       (None, 192, 256, 160 0           batch_normalization_1[0][0]      \n",
            "__________________________________________________________________________________________________\n",
            "max_pooling2d_1 (MaxPooling2D)  (None, 96, 128, 160) 0           activation_1[0][0]               \n",
            "__________________________________________________________________________________________________\n",
            "dropout (Dropout)               (None, 96, 128, 160) 0           max_pooling2d_1[0][0]            \n",
            "__________________________________________________________________________________________________\n",
            "conv2d_2 (Conv2D)               (None, 96, 128, 320) 461120      dropout[0][0]                    \n",
            "__________________________________________________________________________________________________\n",
            "batch_normalization_2 (BatchNor (None, 96, 128, 320) 1280        conv2d_2[0][0]                   \n",
            "__________________________________________________________________________________________________\n",
            "activation_2 (Activation)       (None, 96, 128, 320) 0           batch_normalization_2[0][0]      \n",
            "__________________________________________________________________________________________________\n",
            "max_pooling2d_2 (MaxPooling2D)  (None, 48, 64, 320)  0           activation_2[0][0]               \n",
            "__________________________________________________________________________________________________\n",
            "dropout_1 (Dropout)             (None, 48, 64, 320)  0           max_pooling2d_2[0][0]            \n",
            "__________________________________________________________________________________________________\n",
            "conv2d_3 (Conv2D)               (None, 48, 64, 640)  1843840     dropout_1[0][0]                  \n",
            "__________________________________________________________________________________________________\n",
            "batch_normalization_3 (BatchNor (None, 48, 64, 640)  2560        conv2d_3[0][0]                   \n",
            "__________________________________________________________________________________________________\n",
            "activation_3 (Activation)       (None, 48, 64, 640)  0           batch_normalization_3[0][0]      \n",
            "__________________________________________________________________________________________________\n",
            "max_pooling2d_3 (MaxPooling2D)  (None, 24, 32, 640)  0           activation_3[0][0]               \n",
            "__________________________________________________________________________________________________\n",
            "dropout_2 (Dropout)             (None, 24, 32, 640)  0           max_pooling2d_3[0][0]            \n",
            "__________________________________________________________________________________________________\n",
            "conv2d_4 (Conv2D)               (None, 24, 32, 1280) 7374080     dropout_2[0][0]                  \n",
            "__________________________________________________________________________________________________\n",
            "batch_normalization_4 (BatchNor (None, 24, 32, 1280) 5120        conv2d_4[0][0]                   \n",
            "__________________________________________________________________________________________________\n",
            "activation_4 (Activation)       (None, 24, 32, 1280) 0           batch_normalization_4[0][0]      \n",
            "__________________________________________________________________________________________________\n",
            "conv2d_transpose (Conv2DTranspo (None, 48, 64, 640)  7373440     activation_4[0][0]               \n",
            "__________________________________________________________________________________________________\n",
            "re_lu (ReLU)                    (None, 48, 64, 640)  0           conv2d_transpose[0][0]           \n",
            "__________________________________________________________________________________________________\n",
            "dropout_3 (Dropout)             (None, 48, 64, 640)  0           re_lu[0][0]                      \n",
            "__________________________________________________________________________________________________\n",
            "add (Add)                       (None, 48, 64, 640)  0           dropout_3[0][0]                  \n",
            "                                                                 activation_3[0][0]               \n",
            "__________________________________________________________________________________________________\n",
            "conv2d_transpose_1 (Conv2DTrans (None, 96, 128, 320) 1843520     add[0][0]                        \n",
            "__________________________________________________________________________________________________\n",
            "re_lu_1 (ReLU)                  (None, 96, 128, 320) 0           conv2d_transpose_1[0][0]         \n",
            "__________________________________________________________________________________________________\n",
            "dropout_4 (Dropout)             (None, 96, 128, 320) 0           re_lu_1[0][0]                    \n",
            "__________________________________________________________________________________________________\n",
            "add_1 (Add)                     (None, 96, 128, 320) 0           dropout_4[0][0]                  \n",
            "                                                                 activation_2[0][0]               \n",
            "__________________________________________________________________________________________________\n",
            "conv2d_transpose_2 (Conv2DTrans (None, 192, 256, 160 460960      add_1[0][0]                      \n",
            "__________________________________________________________________________________________________\n",
            "re_lu_2 (ReLU)                  (None, 192, 256, 160 0           conv2d_transpose_2[0][0]         \n",
            "__________________________________________________________________________________________________\n",
            "dropout_5 (Dropout)             (None, 192, 256, 160 0           re_lu_2[0][0]                    \n",
            "__________________________________________________________________________________________________\n",
            "add_2 (Add)                     (None, 192, 256, 160 0           dropout_5[0][0]                  \n",
            "                                                                 activation_1[0][0]               \n",
            "__________________________________________________________________________________________________\n",
            "conv2d_transpose_3 (Conv2DTrans (None, 384, 512, 80) 115280      add_2[0][0]                      \n",
            "__________________________________________________________________________________________________\n",
            "re_lu_3 (ReLU)                  (None, 384, 512, 80) 0           conv2d_transpose_3[0][0]         \n",
            "__________________________________________________________________________________________________\n",
            "dropout_6 (Dropout)             (None, 384, 512, 80) 0           re_lu_3[0][0]                    \n",
            "__________________________________________________________________________________________________\n",
            "add_3 (Add)                     (None, 384, 512, 80) 0           dropout_6[0][0]                  \n",
            "                                                                 activation[0][0]                 \n",
            "__________________________________________________________________________________________________\n",
            "conv2d_5 (Conv2D)               (None, 384, 512, 3)  243         add_3[0][0]                      \n",
            "==================================================================================================\n",
            "Total params: 19,600,003\n",
            "Trainable params: 19,595,043\n",
            "Non-trainable params: 4,960\n",
            "__________________________________________________________________________________________________\n"
          ],
          "name": "stdout"
        }
      ]
    },
    {
      "cell_type": "code",
      "metadata": {
        "id": "9MlmYGVMnFJW"
      },
      "source": [
        "# Optimization params\n",
        "# -------------------\n",
        "\n",
        "# Loss\n",
        "# Sparse Categorical Crossentropy to use integers (mask) instead of one-hot encoded labels\n",
        "loss = tf.keras.losses.SparseCategoricalCrossentropy() \n",
        "# learning rate\n",
        "lr = 1e-4\n",
        "optimizer = tf.keras.optimizers.Adam(learning_rate=lr)\n",
        "# -------------------\n",
        "\n",
        "# Here we define the intersection over union for each class in the batch.\n",
        "# Then we compute the final iou as the mean over classes\n",
        "def meanIoU(y_true, y_pred):\n",
        "    # get predicted class from softmax\n",
        "    y_pred = tf.expand_dims(tf.argmax(y_pred, -1), -1)\n",
        "\n",
        "    per_class_iou = []\n",
        "\n",
        "    for i in range(1,3): # exclude the background class 0\n",
        "      # Get prediction and target related to only a single class (i)\n",
        "      class_pred = tf.cast(tf.where(y_pred == i, 1, 0), tf.float32)\n",
        "      class_true = tf.cast(tf.where(y_true == i, 1, 0), tf.float32)\n",
        "      intersection = tf.reduce_sum(class_true * class_pred)\n",
        "      union = tf.reduce_sum(class_true) + tf.reduce_sum(class_pred) - intersection\n",
        "    \n",
        "      iou = (intersection + 1e-7) / (union + 1e-7)\n",
        "      per_class_iou.append(iou)\n",
        "\n",
        "    return tf.reduce_mean(per_class_iou)\n",
        "\n",
        "# Validation metrics\n",
        "# ------------------\n",
        "metrics = ['accuracy', meanIoU]\n",
        "# ------------------\n",
        "\n",
        "# Compile Model\n",
        "model.compile(optimizer=optimizer, loss=loss, metrics=metrics)"
      ],
      "execution_count": 11,
      "outputs": []
    },
    {
      "cell_type": "code",
      "metadata": {
        "colab": {
          "base_uri": "https://localhost:8080/"
        },
        "id": "3XiwaKZhnFJa",
        "scrolled": true,
        "outputId": "50fade59-8e58-4a47-bfc9-892af92da063"
      },
      "source": [
        "import os\n",
        "from datetime import datetime\n",
        "\n",
        "cwd = os.getcwd()\n",
        "\n",
        "exps_dir = os.path.join(cwd, 'drive/My Drive/Keras4/', 'multiclass_segmentation_experiments')\n",
        "if not os.path.exists(exps_dir):\n",
        "    os.makedirs(exps_dir)\n",
        "\n",
        "now = datetime.now().strftime('%b%d_%H-%M-%S')\n",
        "\n",
        "model_name = 'CNN'\n",
        "\n",
        "exp_dir = os.path.join(exps_dir, model_name + '_' + str(now))\n",
        "if not os.path.exists(exp_dir):\n",
        "    os.makedirs(exp_dir)\n",
        "    \n",
        "callbacks = []\n",
        "\n",
        "# Model checkpoint\n",
        "# ----------------\n",
        "ckpt_dir = os.path.join(exp_dir, 'ckpts')\n",
        "if not os.path.exists(ckpt_dir):\n",
        "    os.makedirs(ckpt_dir)\n",
        "\n",
        "ckpt_callback = tf.keras.callbacks.ModelCheckpoint(filepath=os.path.join(ckpt_dir, 'cp_{epoch:02d}.ckpt'), \n",
        "                                                   save_weights_only=True) \n",
        "callbacks.append(ckpt_callback)\n",
        "\n",
        "# Visualize Learning on Tensorboard\n",
        "# ---------------------------------\n",
        "tb_dir = os.path.join(exp_dir, 'tb_logs')\n",
        "if not os.path.exists(tb_dir):\n",
        "    os.makedirs(tb_dir)\n",
        "    \n",
        "# By default shows losses and metrics for both training and validation\n",
        "tb_callback = tf.keras.callbacks.TensorBoard(log_dir=tb_dir,\n",
        "                                             profile_batch=0,\n",
        "                                             histogram_freq=0)  \n",
        "callbacks.append(tb_callback)\n",
        "\n",
        "# Early Stopping\n",
        "# --------------\n",
        "early_stop = True\n",
        "if early_stop:\n",
        "    es_callback = tf.keras.callbacks.EarlyStopping(monitor='val_loss', patience=3)\n",
        "    callbacks.append(es_callback)\n",
        "\n",
        "\n",
        "model.fit(x=train_dataset,\n",
        "          epochs=20,  #### set repeat in training dataset\n",
        "          steps_per_epoch=len(dataset),\n",
        "          validation_data=valid_dataset,\n",
        "          validation_steps=len(dataset_valid), \n",
        "          callbacks=callbacks)"
      ],
      "execution_count": 12,
      "outputs": [
        {
          "output_type": "stream",
          "text": [
            "Epoch 1/20\n",
            "288/288 [==============================] - 2451s 8s/step - loss: 0.3243 - accuracy: 0.8745 - meanIoU: 0.1756 - val_loss: 0.2474 - val_accuracy: 0.9034 - val_meanIoU: 0.1561\n",
            "Epoch 2/20\n",
            "288/288 [==============================] - 2021s 7s/step - loss: 0.1384 - accuracy: 0.9445 - meanIoU: 0.3457 - val_loss: 0.1744 - val_accuracy: 0.9308 - val_meanIoU: 0.2623\n",
            "Epoch 3/20\n",
            "288/288 [==============================] - 2053s 7s/step - loss: 0.1193 - accuracy: 0.9528 - meanIoU: 0.4225 - val_loss: 0.1769 - val_accuracy: 0.9374 - val_meanIoU: 0.2994\n",
            "Epoch 4/20\n",
            "288/288 [==============================] - 2062s 7s/step - loss: 0.1100 - accuracy: 0.9565 - meanIoU: 0.4474 - val_loss: 0.1448 - val_accuracy: 0.9485 - val_meanIoU: 0.3323\n",
            "Epoch 5/20\n",
            "288/288 [==============================] - 2037s 7s/step - loss: 0.1095 - accuracy: 0.9564 - meanIoU: 0.4641 - val_loss: 0.1395 - val_accuracy: 0.9509 - val_meanIoU: 0.3035\n",
            "Epoch 6/20\n",
            "288/288 [==============================] - 2062s 7s/step - loss: 0.1001 - accuracy: 0.9608 - meanIoU: 0.5043 - val_loss: 0.1710 - val_accuracy: 0.9343 - val_meanIoU: 0.2289\n",
            "Epoch 7/20\n",
            "288/288 [==============================] - 2035s 7s/step - loss: 0.1009 - accuracy: 0.9609 - meanIoU: 0.5210 - val_loss: 0.1740 - val_accuracy: 0.9339 - val_meanIoU: 0.2572\n",
            "Epoch 8/20\n",
            "288/288 [==============================] - 2056s 7s/step - loss: 0.0907 - accuracy: 0.9647 - meanIoU: 0.5580 - val_loss: 0.1406 - val_accuracy: 0.9546 - val_meanIoU: 0.3544\n",
            "Epoch 9/20\n",
            "288/288 [==============================] - 2056s 7s/step - loss: 0.0877 - accuracy: 0.9657 - meanIoU: 0.5635 - val_loss: 0.1256 - val_accuracy: 0.9623 - val_meanIoU: 0.3872\n",
            "Epoch 10/20\n",
            "288/288 [==============================] - 2022s 7s/step - loss: 0.0878 - accuracy: 0.9658 - meanIoU: 0.5837 - val_loss: 0.1505 - val_accuracy: 0.9574 - val_meanIoU: 0.3413\n",
            "Epoch 11/20\n",
            "288/288 [==============================] - 2081s 7s/step - loss: 0.0835 - accuracy: 0.9673 - meanIoU: 0.5887 - val_loss: 0.1251 - val_accuracy: 0.9600 - val_meanIoU: 0.3703\n",
            "Epoch 12/20\n",
            "288/288 [==============================] - 2023s 7s/step - loss: 0.0845 - accuracy: 0.9668 - meanIoU: 0.5931 - val_loss: 0.1181 - val_accuracy: 0.9632 - val_meanIoU: 0.3901\n",
            "Epoch 13/20\n",
            "288/288 [==============================] - 2060s 7s/step - loss: 0.0803 - accuracy: 0.9687 - meanIoU: 0.6161 - val_loss: 0.1302 - val_accuracy: 0.9609 - val_meanIoU: 0.3925\n",
            "Epoch 14/20\n",
            "288/288 [==============================] - 2012s 7s/step - loss: 0.0773 - accuracy: 0.9695 - meanIoU: 0.6225 - val_loss: 0.1180 - val_accuracy: 0.9631 - val_meanIoU: 0.3899\n",
            "Epoch 15/20\n",
            "288/288 [==============================] - 1974s 7s/step - loss: 0.0774 - accuracy: 0.9695 - meanIoU: 0.6322 - val_loss: 0.1726 - val_accuracy: 0.9480 - val_meanIoU: 0.3058\n",
            "Epoch 16/20\n",
            "288/288 [==============================] - 2050s 7s/step - loss: 0.0710 - accuracy: 0.9718 - meanIoU: 0.6578 - val_loss: 0.1541 - val_accuracy: 0.9442 - val_meanIoU: 0.3346\n",
            "Epoch 17/20\n",
            "288/288 [==============================] - 1947s 7s/step - loss: 0.0733 - accuracy: 0.9709 - meanIoU: 0.6585 - val_loss: 0.1681 - val_accuracy: 0.9524 - val_meanIoU: 0.3073\n",
            "Epoch 18/20\n",
            "288/288 [==============================] - 1947s 7s/step - loss: 0.0765 - accuracy: 0.9698 - meanIoU: 0.6307 - val_loss: 0.1145 - val_accuracy: 0.9622 - val_meanIoU: 0.4034\n",
            "Epoch 19/20\n",
            "288/288 [==============================] - 1957s 7s/step - loss: 0.0680 - accuracy: 0.9728 - meanIoU: 0.6665 - val_loss: 0.1314 - val_accuracy: 0.9617 - val_meanIoU: 0.3828\n",
            "Epoch 20/20\n",
            "288/288 [==============================] - 1935s 7s/step - loss: 0.0690 - accuracy: 0.9724 - meanIoU: 0.6757 - val_loss: 0.1433 - val_accuracy: 0.9576 - val_meanIoU: 0.3602\n"
          ],
          "name": "stdout"
        },
        {
          "output_type": "execute_result",
          "data": {
            "text/plain": [
              "<tensorflow.python.keras.callbacks.History at 0x7f592019af98>"
            ]
          },
          "metadata": {
            "tags": []
          },
          "execution_count": 12
        }
      ]
    },
    {
      "cell_type": "code",
      "metadata": {
        "id": "G87_8fHi_JuL"
      },
      "source": [
        "import time\r\n",
        "import matplotlib.pyplot as plt\r\n",
        "\r\n",
        "from PIL import Image\r\n",
        "\r\n",
        "%matplotlib inline\r\n",
        "\r\n",
        "iterator = iter(valid_dataset)"
      ],
      "execution_count": 13,
      "outputs": []
    },
    {
      "cell_type": "code",
      "metadata": {
        "id": "B-ZL1TAX_NOr",
        "colab": {
          "base_uri": "https://localhost:8080/",
          "height": 167
        },
        "outputId": "e2e1b298-6cc3-47b6-a21a-cc5e28ab8ba6"
      },
      "source": [
        "fig, ax = plt.subplots(1, 3, figsize=(8, 8))\r\n",
        "fig.show()\r\n",
        "image, target = next(iterator)\r\n",
        "\r\n",
        "image = image[0] \r\n",
        "target = target[0, ..., 0]\r\n",
        "\r\n",
        "out_sigmoid = model.predict(x=tf.expand_dims(image, 0))\r\n",
        "\r\n",
        "# Get predicted class as the index corresponding to the maximum value in the vector probability\r\n",
        "# predicted_class = tf.cast(out_sigmoid > score_th, tf.int32)\r\n",
        "# predicted_class = predicted_class[0, ..., 0]\r\n",
        "predicted_class = tf.argmax(out_sigmoid, -1)\r\n",
        "\r\n",
        "out_sigmoid.shape\r\n",
        "\r\n",
        "predicted_class = predicted_class[0, ...]\r\n",
        "\r\n",
        "# Assign colors (just for visualization)\r\n",
        "target_img = np.zeros([target.shape[0], target.shape[1], 3])\r\n",
        "prediction_img = np.zeros([target.shape[0], target.shape[1], 3])\r\n",
        "\r\n",
        "target_img[np.where(target == 0)] = [0, 0, 0]\r\n",
        "for i in range(1, 3):\r\n",
        "  target_img[np.where(target == i)] = np.array(colors[i-1])[:3] * 255\r\n",
        "\r\n",
        "prediction_img[np.where(predicted_class == 0)] = [0, 0, 0]\r\n",
        "for i in range(1, 3):\r\n",
        "  prediction_img[np.where(predicted_class == i)] = np.array(colors[i-1])[:3] * 255\r\n",
        "\r\n",
        "ax[0].imshow(np.uint8(image))\r\n",
        "ax[1].imshow(np.uint8(target_img))\r\n",
        "ax[2].imshow(np.uint8(prediction_img))\r\n",
        "\r\n",
        "fig.canvas.draw()\r\n",
        "time.sleep(1)"
      ],
      "execution_count": 14,
      "outputs": [
        {
          "output_type": "execute_result",
          "data": {
            "text/plain": [
              "(1, 384, 512, 3)"
            ]
          },
          "metadata": {
            "tags": []
          },
          "execution_count": 14
        },
        {
          "output_type": "execute_result",
          "data": {
            "text/plain": [
              "<matplotlib.image.AxesImage at 0x7f58966dada0>"
            ]
          },
          "metadata": {
            "tags": []
          },
          "execution_count": 14
        },
        {
          "output_type": "execute_result",
          "data": {
            "text/plain": [
              "<matplotlib.image.AxesImage at 0x7f58966d8e48>"
            ]
          },
          "metadata": {
            "tags": []
          },
          "execution_count": 14
        },
        {
          "output_type": "execute_result",
          "data": {
            "text/plain": [
              "<matplotlib.image.AxesImage at 0x7f58966d8f60>"
            ]
          },
          "metadata": {
            "tags": []
          },
          "execution_count": 14
        },
        {
          "output_type": "display_data",
          "data": {
            "image/png": "[encoded data removed]",
            "text/plain": [
              "<Figure size 576x576 with 3 Axes>"
            ]
          },
          "metadata": {
            "tags": [],
            "needs_background": "light"
          }
        }
      ]
    },
    {
      "cell_type": "code",
      "metadata": {
        "id": "b4GQUUuiiKS3",
        "outputId": "eb885ab4-b5a8-4b8b-9ae6-7c9e2c334d55",
        "colab": {
          "base_uri": "https://localhost:8080/"
        }
      },
      "source": [
        "from PIL import Image\r\n",
        "\r\n",
        "class CustomDataSol(tf.keras.utils.Sequence):\r\n",
        "\r\n",
        "  def __init__(self, dataset_dir, img_generator=None,\r\n",
        "               preprocessing_function=None, out_shape=[512, 384],projects=['Weedelec','Pead','Roseau','Bipbip'],plants=['Haricot','Mais']):\r\n",
        "\r\n",
        "    self.subset_filenames = []\r\n",
        "    self.subset_direc = []\r\n",
        "    self.name_project = []\r\n",
        "    self.name_plant = []\r\n",
        "    self.projects = []\r\n",
        "    self.plants = []\r\n",
        "    self.dataset_dir = dataset_dir\r\n",
        "    self.img_generator = img_generator\r\n",
        "    self.preprocessing_function = preprocessing_function\r\n",
        "    self.out_shape = out_shape\r\n",
        "\r\n",
        "    for project in projects :\r\n",
        "      for plant in plants :\r\n",
        "        path=os.path.join(dataset_dir,project,plant)\r\n",
        "        list = os.listdir(os.path.join(path,'Images'))\r\n",
        "        number_files = len(list)\r\n",
        "        for ii in range(0,number_files):\r\n",
        "            self.projects.append(project)\r\n",
        "            self.plants.append(plant)\r\n",
        "            self.subset_filenames.append(os.path.splitext(list[ii])[0])\r\n",
        "            self.subset_direc.append(path)\r\n",
        "            self.name_project.append(project)\r\n",
        "            self.name_plant.append(plant)\r\n",
        "    \r\n",
        "  def __len__(self):\r\n",
        "    return len(self.subset_filenames)\r\n",
        "\r\n",
        "  def __getitem__(self, index):\r\n",
        "    # Read Image\r\n",
        "    curr_filename = self.subset_filenames[index]\r\n",
        "    curr_dir = self.subset_direc[index]\r\n",
        "    curr_project = self.projects[index]\r\n",
        "    if curr_project == 'Roseau' :\r\n",
        "      img = Image.open(os.path.join(curr_dir, 'Images', curr_filename + '.png'))\r\n",
        "    else :\r\n",
        "      img = Image.open(os.path.join(curr_dir, 'Images', curr_filename + '.jpg'))\r\n",
        "\r\n",
        "    # Resize image \r\n",
        "    img = img.resize(self.out_shape)\r\n",
        "    img_arr = np.array(img)\r\n",
        "    if self.preprocessing_function is not None:\r\n",
        "        img_arr = self.preprocessing_function(img_arr)\r\n",
        "\r\n",
        "    return img_arr\r\n",
        "\r\n",
        "################################################################################\r\n",
        " # Encode array (start kit)\r\n",
        "\r\n",
        "def rle_encode(img):\r\n",
        "    '''\r\n",
        "    img: numpy array, 1 - foreground, 0 - background\r\n",
        "    Returns run length as string formatted\r\n",
        "    '''\r\n",
        "    pixels = img.flatten()\r\n",
        "    pixels = np.concatenate([[0], pixels, [0]])\r\n",
        "    runs = np.where(pixels[1:] != pixels[:-1])[0] + 1\r\n",
        "    runs[1::2] -= runs[::2]\r\n",
        "    return ' '.join(str(x) for x in runs)\r\n",
        "\r\n",
        "\r\n",
        "################################################################################\r\n",
        "\r\n",
        "path_test = '/content/drive/My Drive/Development_Dataset/Test_Dev/'\r\n",
        "test_set=CustomDataSol(path_test, \r\n",
        "                        img_generator=img_data_gen,\r\n",
        "                        projects=['Weedelec','Pead','Roseau','Bipbip'],\r\n",
        "                        plants=['Mais','Haricot'])\r\n",
        "test_dataset = tf.data.Dataset.from_generator(lambda: test_set,\r\n",
        "                                               output_types= tf.float32,\r\n",
        "                                               output_shapes=[img_h, img_w, 3])\r\n",
        "\r\n",
        "test_dataset = test_dataset.batch(1)\r\n",
        "iterator = iter(test_dataset)\r\n",
        "test_set.__len__()\r\n",
        "    \r\n",
        "submission_dict = {}\r\n",
        "SIZE=[[1536,2048],[2464,3280],[819,1228],[3456,5184]]\r\n",
        "for index in range(0,test_set.__len__()):#\r\n",
        "      image = next(iterator)\r\n",
        "      if test_set.projects[index]=='Bipbip':\r\n",
        "        size_im=SIZE[0]\r\n",
        "      elif test_set.projects[index]=='Pead':\r\n",
        "        size_im=SIZE[1]\r\n",
        "      elif test_set.projects[index]=='Roseau':\r\n",
        "        size_im=SIZE[2]\r\n",
        "      else:\r\n",
        "        size_im=SIZE[3]\r\n",
        "      img_name = os.path.splitext(test_set.subset_filenames[index])[0]\r\n",
        "      submission_dict[img_name] = {}\r\n",
        "      mask_arr =  model.predict(image)\r\n",
        "      mask_arr = tf.image.resize(mask_arr, size_im, method='nearest')\r\n",
        "      #mask_arr.size\r\n",
        "      predicted_class = tf.argmax(mask_arr, -1)\r\n",
        "      predicted_class = predicted_class[0, ...]\r\n",
        "      prediction_img = np.zeros([size_im[0], size_im[1]])\r\n",
        "      #prediction_img2 = np.zeros([size_im[0], size_im[1], 3])\r\n",
        "  \r\n",
        "      prediction_img[np.where(predicted_class == 0)] = 0\r\n",
        "      #prediction_img2[np.where(predicted_class == 0)] = [0, 0, 0]\r\n",
        "      for i in range(1, 3):\r\n",
        "        prediction_img[np.where(predicted_class == i)] = i\r\n",
        "        #prediction_img2[np.where(predicted_class == i)] = np.array(colors[i-1])[:3] * 255\r\n",
        "      #fig, ax = plt.subplots(1, 2, figsize=(10, 10))\r\n",
        "      #fig.show() \r\n",
        "      #print(np.uint8(prediction_img2).size)   \r\n",
        "      #ax[0].imshow(np.uint8(prediction_img2))\r\n",
        "      #ax[1].imshow(np.uint8(image[0]))\r\n",
        "      #fig.canvas.draw()\r\n",
        "      #time.sleep(1)\r\n",
        "\r\n",
        "      submission_dict[img_name]['shape'] = size_im\r\n",
        "      submission_dict[img_name]['team'] = test_set.projects[index]\r\n",
        "      submission_dict[img_name]['crop'] = test_set.plants[index]\r\n",
        "      submission_dict[img_name]['segmentation'] = {}\r\n",
        "    \r\n",
        "    # crop\r\n",
        "      rle_encoded_crop = rle_encode(prediction_img == 1)\r\n",
        "    # weed\r\n",
        "      rle_encoded_weed = rle_encode(prediction_img == 2)\r\n",
        "\r\n",
        "      submission_dict[img_name]['segmentation']['crop'] = rle_encoded_crop\r\n",
        "      submission_dict[img_name]['segmentation']['weed'] = rle_encoded_weed\r\n",
        "\r\n",
        "import json\r\n",
        "with open('/content/drive/My Drive/submission.json', 'w') as file:\r\n",
        "      json.dump(submission_dict, file)"
      ],
      "execution_count": 16,
      "outputs": [
        {
          "output_type": "execute_result",
          "data": {
            "text/plain": [
              "120"
            ]
          },
          "metadata": {
            "tags": []
          },
          "execution_count": 16
        }
      ]
    },
    {
      "cell_type": "code",
      "metadata": {
        "id": "768uq3QpHBdN",
        "colab": {
          "base_uri": "https://localhost:8080/",
          "height": 17
        },
        "outputId": "2c4eadb4-0409-4426-c484-5e064dc2b81a"
      },
      "source": [
        "from google.colab import files\r\n",
        "files.download(\"/content/drive/MyDrive/submission.json\")"
      ],
      "execution_count": null,
      "outputs": [
        {
          "output_type": "display_data",
          "data": {
            "application/javascript": [
              "\n",
              "    async function download(id, filename, size) {\n",
              "      if (!google.colab.kernel.accessAllowed) {\n",
              "        return;\n",
              "      }\n",
              "      const div = document.createElement('div');\n",
              "      const label = document.createElement('label');\n",
              "      label.textContent = `Downloading \"${filename}\": `;\n",
              "      div.appendChild(label);\n",
              "      const progress = document.createElement('progress');\n",
              "      progress.max = size;\n",
              "      div.appendChild(progress);\n",
              "      document.body.appendChild(div);\n",
              "\n",
              "      const buffers = [];\n",
              "      let downloaded = 0;\n",
              "\n",
              "      const channel = await google.colab.kernel.comms.open(id);\n",
              "      // Send a message to notify the kernel that we're ready.\n",
              "      channel.send({})\n",
              "\n",
              "      for await (const message of channel.messages) {\n",
              "        // Send a message to notify the kernel that we're ready.\n",
              "        channel.send({})\n",
              "        if (message.buffers) {\n",
              "          for (const buffer of message.buffers) {\n",
              "            buffers.push(buffer);\n",
              "            downloaded += buffer.byteLength;\n",
              "            progress.value = downloaded;\n",
              "          }\n",
              "        }\n",
              "      }\n",
              "      const blob = new Blob(buffers, {type: 'application/binary'});\n",
              "      const a = document.createElement('a');\n",
              "      a.href = window.URL.createObjectURL(blob);\n",
              "      a.download = filename;\n",
              "      div.appendChild(a);\n",
              "      a.click();\n",
              "      div.remove();\n",
              "    }\n",
              "  "
            ],
            "text/plain": [
              "<IPython.core.display.Javascript object>"
            ]
          },
          "metadata": {
            "tags": []
          }
        },
        {
          "output_type": "display_data",
          "data": {
            "application/javascript": [
              "download(\"download_206e2ff9-7d4c-4ed3-8176-6d219589e845\", \"submission.json\", 9380517)"
            ],
            "text/plain": [
              "<IPython.core.display.Javascript object>"
            ]
          },
          "metadata": {
            "tags": []
          }
        }
      ]
    }
  ]
}